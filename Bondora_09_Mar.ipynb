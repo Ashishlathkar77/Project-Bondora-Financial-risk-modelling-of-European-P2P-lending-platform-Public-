{
  "nbformat": 4,
  "nbformat_minor": 0,
  "metadata": {
    "colab": {
      "provenance": []
    },
    "kernelspec": {
      "name": "python3",
      "display_name": "Python 3"
    },
    "language_info": {
      "name": "python"
    }
  },
  "cells": [
    {
      "cell_type": "markdown",
      "source": [
        "######Required Dependencies"
      ],
      "metadata": {
        "id": "SqYgQ1rrB4Qy"
      }
    },
    {
      "cell_type": "code",
      "execution_count": 1,
      "metadata": {
        "id": "M_TY2l5Zr1pl"
      },
      "outputs": [],
      "source": [
        "# Importing Dependencies\n",
        "\n",
        "import numpy as np\n",
        "import pandas as pd\n",
        "import matplotlib.pyplot as plt\n",
        "%matplotlib inline\n",
        "import seaborn as sns"
      ]
    },
    {
      "cell_type": "code",
      "source": [
        "# Importing Data\n",
        "\n",
        "data = pd.read_csv('/content/Bondora_20.csv')\n",
        "data.shape"
      ],
      "metadata": {
        "colab": {
          "base_uri": "https://localhost:8080/"
        },
        "id": "h-fDc8DQ03HP",
        "outputId": "27aae127-b197-4a02-d309-dc7b0c7ee90e"
      },
      "execution_count": 2,
      "outputs": [
        {
          "output_type": "stream",
          "name": "stderr",
          "text": [
            "/usr/local/lib/python3.9/dist-packages/IPython/core/interactiveshell.py:3326: DtypeWarning: Columns (34,80,90) have mixed types.Specify dtype option on import or set low_memory=False.\n",
            "  exec(code_obj, self.user_global_ns, self.user_ns)\n"
          ]
        },
        {
          "output_type": "execute_result",
          "data": {
            "text/plain": [
              "(34722, 112)"
            ]
          },
          "metadata": {},
          "execution_count": 2
        }
      ]
    },
    {
      "cell_type": "markdown",
      "source": [
        "######Checking for Null Values and Data Pre-Processing"
      ],
      "metadata": {
        "id": "ZJ63t6KZEDiZ"
      }
    },
    {
      "cell_type": "code",
      "source": [
        "round(data.isnull().sum()/len(data.index), 2)*100"
      ],
      "metadata": {
        "colab": {
          "base_uri": "https://localhost:8080/"
        },
        "id": "G6NfgE5l1H88",
        "outputId": "9d8775d8-8a38-4416-c30d-8101c6700058"
      },
      "execution_count": 3,
      "outputs": [
        {
          "output_type": "execute_result",
          "data": {
            "text/plain": [
              "ReportAsOfEOD                           0.0\n",
              "LoanId                                  0.0\n",
              "LoanNumber                              0.0\n",
              "ListedOnUTC                             0.0\n",
              "BiddingStartedOn                        0.0\n",
              "                                       ... \n",
              "NrOfScheduledPayments                  48.0\n",
              "ReScheduledOn                          74.0\n",
              "PrincipalDebtServicingCost              0.0\n",
              "InterestAndPenaltyDebtServicingCost     0.0\n",
              "ActiveLateLastPaymentCategory          46.0\n",
              "Length: 112, dtype: float64"
            ]
          },
          "metadata": {},
          "execution_count": 3
        }
      ]
    },
    {
      "cell_type": "markdown",
      "source": [
        "######Setting the 40 Percent Threshold for Null Values"
      ],
      "metadata": {
        "id": "dNharqYeEW60"
      }
    },
    {
      "cell_type": "code",
      "source": [
        "missing_columns = data.columns[100*(data.isnull().sum()/len(data.index)) > 40]\n",
        "print(missing_columns)"
      ],
      "metadata": {
        "colab": {
          "base_uri": "https://localhost:8080/"
        },
        "id": "7UBjyf2j4nww",
        "outputId": "94ae901f-1dd5-4dbb-8510-8477de957657"
      },
      "execution_count": 4,
      "outputs": [
        {
          "output_type": "stream",
          "name": "stdout",
          "text": [
            "Index(['CurrentDebtDaysPrimary', 'DebtOccuredOn', 'CurrentDebtDaysSecondary',\n",
            "       'DebtOccuredOnForSecondary', 'DefaultDate',\n",
            "       'PlannedPrincipalPostDefault', 'PlannedInterestPostDefault', 'EAD1',\n",
            "       'EAD2', 'PrincipalRecovery', 'InterestRecovery', 'RecoveryStage',\n",
            "       'EL_V0', 'Rating_V0', 'EL_V1', 'Rating_V1', 'Rating_V2',\n",
            "       'ActiveLateCategory', 'CreditScoreEsMicroL', 'CreditScoreEsEquifaxRisk',\n",
            "       'CreditScoreFiAsiakasTietoRiskGrade', 'CreditScoreEeMini',\n",
            "       'GracePeriodStart', 'GracePeriodEnd', 'NextPaymentDate',\n",
            "       'NextPaymentNr', 'NrOfScheduledPayments', 'ReScheduledOn',\n",
            "       'ActiveLateLastPaymentCategory'],\n",
            "      dtype='object')\n"
          ]
        }
      ]
    },
    {
      "cell_type": "code",
      "source": [
        "miss_cols = ['ContractEndDate', 'VerificationType', 'MonthlyPayment',\n",
        "       'City', 'NrOfDependants',\n",
        "       'EmploymentPosition', 'WorkExperience', 'OccupationArea',\n",
        "       'HomeOwnershipType', 'DebtToIncome', 'FreeCash', 'LastPaymentOn',\n",
        "       'CurrentDebtDaysPrimary', 'DebtOccuredOn', 'CurrentDebtDaysSecondary',\n",
        "       'DebtOccuredOnForSecondary', 'ExpectedLoss', 'LossGivenDefault',\n",
        "       'ExpectedReturn', 'ProbabilityOfDefault',\n",
        "       'PrincipalOverdueBySchedule', 'PlannedPrincipalPostDefault',\n",
        "       'PlannedInterestPostDefault', 'EAD1', 'EAD2', 'PrincipalRecovery',\n",
        "       'InterestRecovery', 'RecoveryStage', 'StageActiveSince', 'ModelVersion',\n",
        "       'Rating', 'EL_V0', 'Rating_V0', 'EL_V1', 'Rating_V1', 'Rating_V2',\n",
        "       'ActiveLateCategory', 'WorseLateCategory', 'CreditScoreEsMicroL',\n",
        "       'CreditScoreEsEquifaxRisk', 'CreditScoreFiAsiakasTietoRiskGrade',\n",
        "       'CreditScoreEeMini', 'GracePeriodStart', 'GracePeriodEnd',\n",
        "       'NextPaymentDate', 'NextPaymentNr', 'NrOfScheduledPayments',\n",
        "       'ReScheduledOn', 'ActiveLateLastPaymentCategory']"
      ],
      "metadata": {
        "id": "byspcBh14111"
      },
      "execution_count": 5,
      "outputs": []
    },
    {
      "cell_type": "code",
      "source": [
        "data.drop(miss_cols, axis = 1, inplace = True)\n",
        "data.shape"
      ],
      "metadata": {
        "colab": {
          "base_uri": "https://localhost:8080/"
        },
        "id": "lUpLXxcP5C0j",
        "outputId": "0600a4f1-b209-416a-e0aa-cdd4fe935091"
      },
      "execution_count": 6,
      "outputs": [
        {
          "output_type": "execute_result",
          "data": {
            "text/plain": [
              "(34722, 63)"
            ]
          },
          "metadata": {},
          "execution_count": 6
        }
      ]
    },
    {
      "cell_type": "code",
      "source": [
        "data.head(5)"
      ],
      "metadata": {
        "colab": {
          "base_uri": "https://localhost:8080/",
          "height": 560
        },
        "id": "tsUzJufF5I5s",
        "outputId": "d76ff70e-8ded-46dd-8cf8-7c2458e0d606"
      },
      "execution_count": 7,
      "outputs": [
        {
          "output_type": "execute_result",
          "data": {
            "text/plain": [
              "  ReportAsOfEOD                                LoanId  LoanNumber  \\\n",
              "0    27-01-2020  F0660C80-83F3-4A97-8DA0-9C250112D6EC         659   \n",
              "1    27-01-2020  978BB85B-1C69-4D51-8447-9C240104A3A2         654   \n",
              "2    27-01-2020  EA44027E-7FA7-4BB2-846D-9C1F013C8A22         641   \n",
              "3    27-01-2020  CE67AD25-2951-4BEE-96BD-9C2700C61EF4         668   \n",
              "4    27-01-2020  9408BF8C-B159-4D6A-9D61-9C2400A986E3         652   \n",
              "\n",
              "        ListedOnUTC  BiddingStartedOn  BidsPortfolioManager  BidsApi  \\\n",
              "0  11-06-2009 16:40  11-06-2009 16:40                     0        0   \n",
              "1  10-06-2009 15:48  10-06-2009 15:48                     0        0   \n",
              "2  05-06-2009 19:12  05-06-2009 19:12                     0        0   \n",
              "3  13-06-2009 12:01  13-06-2009 12:01                     0        0   \n",
              "4  10-06-2009 10:17  10-06-2009 10:17                     0        0   \n",
              "\n",
              "   BidsManual  UserName  NewCreditCustomer  ... InterestAndPenaltyWriteOffs  \\\n",
              "0    115.0410      KARU               True  ...                         0.0   \n",
              "1    140.6057  koort681              False  ...                         0.0   \n",
              "2    319.5580       0ie               True  ...                         0.0   \n",
              "3     57.5205    Alyona               True  ...                         0.0   \n",
              "4    319.5582       Kai               True  ...                         2.4   \n",
              "\n",
              "  PrincipalBalance InterestAndPenaltyBalance NoOfPreviousLoansBeforeLoan  \\\n",
              "0             0.00                      0.00                           1   \n",
              "1             0.00                      0.00                           2   \n",
              "2           116.35                    414.07                           0   \n",
              "3             0.00                      0.00                           1   \n",
              "4             0.00                      0.00                           1   \n",
              "\n",
              "  AmountOfPreviousLoansBeforeLoan  PreviousRepaymentsBeforeLoan  \\\n",
              "0                         83.0852                        0.0000   \n",
              "1                        255.6467                      258.6256   \n",
              "2                          0.0000                        0.0000   \n",
              "3                        134.2144                        0.0000   \n",
              "4                        146.9966                        0.0000   \n",
              "\n",
              "   PreviousEarlyRepaymentsBefoleLoan  PreviousEarlyRepaymentsCountBeforeLoan  \\\n",
              "0                                0.0                                       0   \n",
              "1                                0.0                                       0   \n",
              "2                                0.0                                       0   \n",
              "3                                0.0                                       0   \n",
              "4                                0.0                                       0   \n",
              "\n",
              "   PrincipalDebtServicingCost InterestAndPenaltyDebtServicingCost  \n",
              "0                         0.0                                 0.0  \n",
              "1                         0.0                                 0.0  \n",
              "2                         0.0                                 0.0  \n",
              "3                         0.0                                 0.0  \n",
              "4                         0.0                                 0.0  \n",
              "\n",
              "[5 rows x 63 columns]"
            ],
            "text/html": [
              "\n",
              "  <div id=\"df-771cc633-4548-4805-9d3e-029b2e17e071\">\n",
              "    <div class=\"colab-df-container\">\n",
              "      <div>\n",
              "<style scoped>\n",
              "    .dataframe tbody tr th:only-of-type {\n",
              "        vertical-align: middle;\n",
              "    }\n",
              "\n",
              "    .dataframe tbody tr th {\n",
              "        vertical-align: top;\n",
              "    }\n",
              "\n",
              "    .dataframe thead th {\n",
              "        text-align: right;\n",
              "    }\n",
              "</style>\n",
              "<table border=\"1\" class=\"dataframe\">\n",
              "  <thead>\n",
              "    <tr style=\"text-align: right;\">\n",
              "      <th></th>\n",
              "      <th>ReportAsOfEOD</th>\n",
              "      <th>LoanId</th>\n",
              "      <th>LoanNumber</th>\n",
              "      <th>ListedOnUTC</th>\n",
              "      <th>BiddingStartedOn</th>\n",
              "      <th>BidsPortfolioManager</th>\n",
              "      <th>BidsApi</th>\n",
              "      <th>BidsManual</th>\n",
              "      <th>UserName</th>\n",
              "      <th>NewCreditCustomer</th>\n",
              "      <th>...</th>\n",
              "      <th>InterestAndPenaltyWriteOffs</th>\n",
              "      <th>PrincipalBalance</th>\n",
              "      <th>InterestAndPenaltyBalance</th>\n",
              "      <th>NoOfPreviousLoansBeforeLoan</th>\n",
              "      <th>AmountOfPreviousLoansBeforeLoan</th>\n",
              "      <th>PreviousRepaymentsBeforeLoan</th>\n",
              "      <th>PreviousEarlyRepaymentsBefoleLoan</th>\n",
              "      <th>PreviousEarlyRepaymentsCountBeforeLoan</th>\n",
              "      <th>PrincipalDebtServicingCost</th>\n",
              "      <th>InterestAndPenaltyDebtServicingCost</th>\n",
              "    </tr>\n",
              "  </thead>\n",
              "  <tbody>\n",
              "    <tr>\n",
              "      <th>0</th>\n",
              "      <td>27-01-2020</td>\n",
              "      <td>F0660C80-83F3-4A97-8DA0-9C250112D6EC</td>\n",
              "      <td>659</td>\n",
              "      <td>11-06-2009 16:40</td>\n",
              "      <td>11-06-2009 16:40</td>\n",
              "      <td>0</td>\n",
              "      <td>0</td>\n",
              "      <td>115.0410</td>\n",
              "      <td>KARU</td>\n",
              "      <td>True</td>\n",
              "      <td>...</td>\n",
              "      <td>0.0</td>\n",
              "      <td>0.00</td>\n",
              "      <td>0.00</td>\n",
              "      <td>1</td>\n",
              "      <td>83.0852</td>\n",
              "      <td>0.0000</td>\n",
              "      <td>0.0</td>\n",
              "      <td>0</td>\n",
              "      <td>0.0</td>\n",
              "      <td>0.0</td>\n",
              "    </tr>\n",
              "    <tr>\n",
              "      <th>1</th>\n",
              "      <td>27-01-2020</td>\n",
              "      <td>978BB85B-1C69-4D51-8447-9C240104A3A2</td>\n",
              "      <td>654</td>\n",
              "      <td>10-06-2009 15:48</td>\n",
              "      <td>10-06-2009 15:48</td>\n",
              "      <td>0</td>\n",
              "      <td>0</td>\n",
              "      <td>140.6057</td>\n",
              "      <td>koort681</td>\n",
              "      <td>False</td>\n",
              "      <td>...</td>\n",
              "      <td>0.0</td>\n",
              "      <td>0.00</td>\n",
              "      <td>0.00</td>\n",
              "      <td>2</td>\n",
              "      <td>255.6467</td>\n",
              "      <td>258.6256</td>\n",
              "      <td>0.0</td>\n",
              "      <td>0</td>\n",
              "      <td>0.0</td>\n",
              "      <td>0.0</td>\n",
              "    </tr>\n",
              "    <tr>\n",
              "      <th>2</th>\n",
              "      <td>27-01-2020</td>\n",
              "      <td>EA44027E-7FA7-4BB2-846D-9C1F013C8A22</td>\n",
              "      <td>641</td>\n",
              "      <td>05-06-2009 19:12</td>\n",
              "      <td>05-06-2009 19:12</td>\n",
              "      <td>0</td>\n",
              "      <td>0</td>\n",
              "      <td>319.5580</td>\n",
              "      <td>0ie</td>\n",
              "      <td>True</td>\n",
              "      <td>...</td>\n",
              "      <td>0.0</td>\n",
              "      <td>116.35</td>\n",
              "      <td>414.07</td>\n",
              "      <td>0</td>\n",
              "      <td>0.0000</td>\n",
              "      <td>0.0000</td>\n",
              "      <td>0.0</td>\n",
              "      <td>0</td>\n",
              "      <td>0.0</td>\n",
              "      <td>0.0</td>\n",
              "    </tr>\n",
              "    <tr>\n",
              "      <th>3</th>\n",
              "      <td>27-01-2020</td>\n",
              "      <td>CE67AD25-2951-4BEE-96BD-9C2700C61EF4</td>\n",
              "      <td>668</td>\n",
              "      <td>13-06-2009 12:01</td>\n",
              "      <td>13-06-2009 12:01</td>\n",
              "      <td>0</td>\n",
              "      <td>0</td>\n",
              "      <td>57.5205</td>\n",
              "      <td>Alyona</td>\n",
              "      <td>True</td>\n",
              "      <td>...</td>\n",
              "      <td>0.0</td>\n",
              "      <td>0.00</td>\n",
              "      <td>0.00</td>\n",
              "      <td>1</td>\n",
              "      <td>134.2144</td>\n",
              "      <td>0.0000</td>\n",
              "      <td>0.0</td>\n",
              "      <td>0</td>\n",
              "      <td>0.0</td>\n",
              "      <td>0.0</td>\n",
              "    </tr>\n",
              "    <tr>\n",
              "      <th>4</th>\n",
              "      <td>27-01-2020</td>\n",
              "      <td>9408BF8C-B159-4D6A-9D61-9C2400A986E3</td>\n",
              "      <td>652</td>\n",
              "      <td>10-06-2009 10:17</td>\n",
              "      <td>10-06-2009 10:17</td>\n",
              "      <td>0</td>\n",
              "      <td>0</td>\n",
              "      <td>319.5582</td>\n",
              "      <td>Kai</td>\n",
              "      <td>True</td>\n",
              "      <td>...</td>\n",
              "      <td>2.4</td>\n",
              "      <td>0.00</td>\n",
              "      <td>0.00</td>\n",
              "      <td>1</td>\n",
              "      <td>146.9966</td>\n",
              "      <td>0.0000</td>\n",
              "      <td>0.0</td>\n",
              "      <td>0</td>\n",
              "      <td>0.0</td>\n",
              "      <td>0.0</td>\n",
              "    </tr>\n",
              "  </tbody>\n",
              "</table>\n",
              "<p>5 rows × 63 columns</p>\n",
              "</div>\n",
              "      <button class=\"colab-df-convert\" onclick=\"convertToInteractive('df-771cc633-4548-4805-9d3e-029b2e17e071')\"\n",
              "              title=\"Convert this dataframe to an interactive table.\"\n",
              "              style=\"display:none;\">\n",
              "        \n",
              "  <svg xmlns=\"http://www.w3.org/2000/svg\" height=\"24px\"viewBox=\"0 0 24 24\"\n",
              "       width=\"24px\">\n",
              "    <path d=\"M0 0h24v24H0V0z\" fill=\"none\"/>\n",
              "    <path d=\"M18.56 5.44l.94 2.06.94-2.06 2.06-.94-2.06-.94-.94-2.06-.94 2.06-2.06.94zm-11 1L8.5 8.5l.94-2.06 2.06-.94-2.06-.94L8.5 2.5l-.94 2.06-2.06.94zm10 10l.94 2.06.94-2.06 2.06-.94-2.06-.94-.94-2.06-.94 2.06-2.06.94z\"/><path d=\"M17.41 7.96l-1.37-1.37c-.4-.4-.92-.59-1.43-.59-.52 0-1.04.2-1.43.59L10.3 9.45l-7.72 7.72c-.78.78-.78 2.05 0 2.83L4 21.41c.39.39.9.59 1.41.59.51 0 1.02-.2 1.41-.59l7.78-7.78 2.81-2.81c.8-.78.8-2.07 0-2.86zM5.41 20L4 18.59l7.72-7.72 1.47 1.35L5.41 20z\"/>\n",
              "  </svg>\n",
              "      </button>\n",
              "      \n",
              "  <style>\n",
              "    .colab-df-container {\n",
              "      display:flex;\n",
              "      flex-wrap:wrap;\n",
              "      gap: 12px;\n",
              "    }\n",
              "\n",
              "    .colab-df-convert {\n",
              "      background-color: #E8F0FE;\n",
              "      border: none;\n",
              "      border-radius: 50%;\n",
              "      cursor: pointer;\n",
              "      display: none;\n",
              "      fill: #1967D2;\n",
              "      height: 32px;\n",
              "      padding: 0 0 0 0;\n",
              "      width: 32px;\n",
              "    }\n",
              "\n",
              "    .colab-df-convert:hover {\n",
              "      background-color: #E2EBFA;\n",
              "      box-shadow: 0px 1px 2px rgba(60, 64, 67, 0.3), 0px 1px 3px 1px rgba(60, 64, 67, 0.15);\n",
              "      fill: #174EA6;\n",
              "    }\n",
              "\n",
              "    [theme=dark] .colab-df-convert {\n",
              "      background-color: #3B4455;\n",
              "      fill: #D2E3FC;\n",
              "    }\n",
              "\n",
              "    [theme=dark] .colab-df-convert:hover {\n",
              "      background-color: #434B5C;\n",
              "      box-shadow: 0px 1px 3px 1px rgba(0, 0, 0, 0.15);\n",
              "      filter: drop-shadow(0px 1px 2px rgba(0, 0, 0, 0.3));\n",
              "      fill: #FFFFFF;\n",
              "    }\n",
              "  </style>\n",
              "\n",
              "      <script>\n",
              "        const buttonEl =\n",
              "          document.querySelector('#df-771cc633-4548-4805-9d3e-029b2e17e071 button.colab-df-convert');\n",
              "        buttonEl.style.display =\n",
              "          google.colab.kernel.accessAllowed ? 'block' : 'none';\n",
              "\n",
              "        async function convertToInteractive(key) {\n",
              "          const element = document.querySelector('#df-771cc633-4548-4805-9d3e-029b2e17e071');\n",
              "          const dataTable =\n",
              "            await google.colab.kernel.invokeFunction('convertToInteractive',\n",
              "                                                     [key], {});\n",
              "          if (!dataTable) return;\n",
              "\n",
              "          const docLinkHtml = 'Like what you see? Visit the ' +\n",
              "            '<a target=\"_blank\" href=https://colab.research.google.com/notebooks/data_table.ipynb>data table notebook</a>'\n",
              "            + ' to learn more about interactive tables.';\n",
              "          element.innerHTML = '';\n",
              "          dataTable['output_type'] = 'display_data';\n",
              "          await google.colab.output.renderOutput(dataTable, element);\n",
              "          const docLink = document.createElement('div');\n",
              "          docLink.innerHTML = docLinkHtml;\n",
              "          element.appendChild(docLink);\n",
              "        }\n",
              "      </script>\n",
              "    </div>\n",
              "  </div>\n",
              "  "
            ]
          },
          "metadata": {},
          "execution_count": 7
        }
      ]
    },
    {
      "cell_type": "markdown",
      "source": [
        "######Now, I Came Up With 62 Features \n",
        "\n",
        "######Deleting the Features Which are Duplicate to Each Other and Which are Totally Related to Date and Timeline"
      ],
      "metadata": {
        "id": "o81mjFZHEnSj"
      }
    },
    {
      "cell_type": "code",
      "source": [
        "cols_del = ['ReportAsOfEOD' , 'LoanId', 'UserName', 'LoanDate', 'FirstPaymentDate', 'MaturityDate_Original', 'MaturityDate_Last', 'Country', 'AppliedAmount',\n",
        "            'IncomeFromPrincipalEmployer', 'IncomeFromPension' , 'IncomeFromFamilyAllowance',\n",
        "            'IncomeFromSocialWelfare' , 'IncomeFromLeavePay', 'IncomeFromChildSupport', 'IncomeOther', \n",
        "            'MonthlyPaymentDay', 'ActiveScheduleFirstPaymentReached', 'PlannedInterestTillDate', 'PrincipalPaymentsMade', 'InterestAndPenaltyPaymentsMade', \n",
        "            'PrincipalBalance', 'InterestAndPenaltyBalance', 'PlannedPrincipalTillDate', 'PrincipalWriteOffs', 'InterestAndPenaltyWriteOffs', 'PreviousEarlyRepaymentsBefoleLoan']"
      ],
      "metadata": {
        "id": "WqYION665MLg"
      },
      "execution_count": 8,
      "outputs": []
    },
    {
      "cell_type": "code",
      "source": [
        "data.drop(cols_del, axis = 1, inplace = True)\n",
        "data.shape"
      ],
      "metadata": {
        "colab": {
          "base_uri": "https://localhost:8080/"
        },
        "id": "ytlcgNQp8DfA",
        "outputId": "d1f59b03-0013-439e-b2c8-1f15583689c0"
      },
      "execution_count": 9,
      "outputs": [
        {
          "output_type": "execute_result",
          "data": {
            "text/plain": [
              "(34722, 36)"
            ]
          },
          "metadata": {},
          "execution_count": 9
        }
      ]
    },
    {
      "cell_type": "markdown",
      "source": [
        "######Listing Out and Analyzing the Features Which are in the Form of Object Data Type; Those are not Important for Finance and Loan Modelling"
      ],
      "metadata": {
        "id": "AXdP7807FQs8"
      }
    },
    {
      "cell_type": "code",
      "source": [
        "data.info()"
      ],
      "metadata": {
        "colab": {
          "base_uri": "https://localhost:8080/"
        },
        "id": "eqtdDeHl8J1j",
        "outputId": "ac1f1828-d6b6-4107-e495-a1dc0f6d5d88"
      },
      "execution_count": 10,
      "outputs": [
        {
          "output_type": "stream",
          "name": "stdout",
          "text": [
            "<class 'pandas.core.frame.DataFrame'>\n",
            "RangeIndex: 34722 entries, 0 to 34721\n",
            "Data columns (total 36 columns):\n",
            " #   Column                                  Non-Null Count  Dtype  \n",
            "---  ------                                  --------------  -----  \n",
            " 0   LoanNumber                              34722 non-null  int64  \n",
            " 1   ListedOnUTC                             34722 non-null  object \n",
            " 2   BiddingStartedOn                        34722 non-null  object \n",
            " 3   BidsPortfolioManager                    34722 non-null  int64  \n",
            " 4   BidsApi                                 34722 non-null  int64  \n",
            " 5   BidsManual                              34722 non-null  float64\n",
            " 6   NewCreditCustomer                       34722 non-null  bool   \n",
            " 7   LoanApplicationStartedDate              34722 non-null  object \n",
            " 8   ApplicationSignedHour                   34722 non-null  int64  \n",
            " 9   ApplicationSignedWeekday                34722 non-null  int64  \n",
            " 10  LanguageCode                            34722 non-null  int64  \n",
            " 11  Age                                     34722 non-null  int64  \n",
            " 12  DateOfBirth                             34722 non-null  object \n",
            " 13  Gender                                  34677 non-null  float64\n",
            " 14  Amount                                  34722 non-null  float64\n",
            " 15  Interest                                34722 non-null  float64\n",
            " 16  LoanDuration                            34722 non-null  int64  \n",
            " 17  Unnamed: 29                             29110 non-null  object \n",
            " 18  UseOfLoan                               34722 non-null  int64  \n",
            " 19  Education                               34677 non-null  float64\n",
            " 20  MaritalStatus                           34677 non-null  float64\n",
            " 21  EmploymentStatus                        34556 non-null  float64\n",
            " 22  EmploymentDurationCurrentEmployer       34105 non-null  object \n",
            " 23  IncomeTotal                             34722 non-null  float64\n",
            " 24  ExistingLiabilities                     34722 non-null  int64  \n",
            " 25  LiabilitiesTotal                        34722 non-null  float64\n",
            " 26  RefinanceLiabilities                    34722 non-null  int64  \n",
            " 27  DefaultDate                             19020 non-null  object \n",
            " 28  Status                                  34722 non-null  object \n",
            " 29  Restructured                            34722 non-null  bool   \n",
            " 30  NoOfPreviousLoansBeforeLoan             34722 non-null  int64  \n",
            " 31  AmountOfPreviousLoansBeforeLoan         34722 non-null  float64\n",
            " 32  PreviousRepaymentsBeforeLoan            34722 non-null  float64\n",
            " 33  PreviousEarlyRepaymentsCountBeforeLoan  34722 non-null  int64  \n",
            " 34  PrincipalDebtServicingCost              34722 non-null  float64\n",
            " 35  InterestAndPenaltyDebtServicingCost     34722 non-null  float64\n",
            "dtypes: bool(2), float64(13), int64(13), object(8)\n",
            "memory usage: 9.1+ MB\n"
          ]
        }
      ]
    },
    {
      "cell_type": "code",
      "source": [
        "extras = ['ListedOnUTC',\n",
        "'BiddingStartedOn',                 \n",
        "'BidsPortfolioManager',                    \n",
        "'BidsApi',                                 \n",
        "'BidsManual',\n",
        "'LoanApplicationStartedDate',               \n",
        "'ApplicationSignedHour',                   \n",
        "'ApplicationSignedWeekday',              \n",
        "'LanguageCode',\n",
        "'DateOfBirth',\n",
        "'Unnamed: 29',]\n",
        "\n",
        "len(extras)"
      ],
      "metadata": {
        "colab": {
          "base_uri": "https://localhost:8080/"
        },
        "id": "gsKiI7p78vY8",
        "outputId": "92ae69df-fca0-4e3a-9bb5-86ad9bf5f308"
      },
      "execution_count": 11,
      "outputs": [
        {
          "output_type": "execute_result",
          "data": {
            "text/plain": [
              "11"
            ]
          },
          "metadata": {},
          "execution_count": 11
        }
      ]
    },
    {
      "cell_type": "code",
      "source": [
        "data.drop(extras, axis = 1, inplace = True)\n",
        "\n",
        "data.shape"
      ],
      "metadata": {
        "colab": {
          "base_uri": "https://localhost:8080/"
        },
        "id": "FEJAp1lq84mm",
        "outputId": "19b3c73d-afca-4d84-9f77-7df721609b29"
      },
      "execution_count": 12,
      "outputs": [
        {
          "output_type": "execute_result",
          "data": {
            "text/plain": [
              "(34722, 25)"
            ]
          },
          "metadata": {},
          "execution_count": 12
        }
      ]
    },
    {
      "cell_type": "code",
      "source": [
        "data['Amount'].isnull().sum()"
      ],
      "metadata": {
        "colab": {
          "base_uri": "https://localhost:8080/"
        },
        "id": "yA3Cxvgvcv57",
        "outputId": "70de823b-ae82-4446-f2f8-7881b974460c"
      },
      "execution_count": 13,
      "outputs": [
        {
          "output_type": "execute_result",
          "data": {
            "text/plain": [
              "0"
            ]
          },
          "metadata": {},
          "execution_count": 13
        }
      ]
    },
    {
      "cell_type": "code",
      "source": [
        "data['Interest']"
      ],
      "metadata": {
        "colab": {
          "base_uri": "https://localhost:8080/"
        },
        "id": "1I55W2Q5c194",
        "outputId": "f81320f6-e584-47b6-c634-6a539462c4ab"
      },
      "execution_count": 14,
      "outputs": [
        {
          "output_type": "execute_result",
          "data": {
            "text/plain": [
              "0        30.00\n",
              "1        25.00\n",
              "2        25.00\n",
              "3        45.00\n",
              "4        30.00\n",
              "         ...  \n",
              "34717    22.33\n",
              "34718    48.90\n",
              "34719    33.70\n",
              "34720    11.18\n",
              "34721    34.38\n",
              "Name: Interest, Length: 34722, dtype: float64"
            ]
          },
          "metadata": {},
          "execution_count": 14
        }
      ]
    },
    {
      "cell_type": "code",
      "source": [
        "data['LoanDuration'].isnull().sum()"
      ],
      "metadata": {
        "colab": {
          "base_uri": "https://localhost:8080/"
        },
        "id": "-c3p_gvNc2AS",
        "outputId": "edeec9f7-0e5d-476d-f8f9-cea81d3eab2f"
      },
      "execution_count": 15,
      "outputs": [
        {
          "output_type": "execute_result",
          "data": {
            "text/plain": [
              "0"
            ]
          },
          "metadata": {},
          "execution_count": 15
        }
      ]
    },
    {
      "cell_type": "markdown",
      "source": [
        "##### Preferred ROI"
      ],
      "metadata": {
        "id": "WSYmUSf65-Y_"
      }
    },
    {
      "cell_type": "code",
      "source": [
        "#data['Preferred ROI'] = (data['Amount'] * data['Interest']) / 100"
      ],
      "metadata": {
        "id": "Bgh8kMR-c2Cg"
      },
      "execution_count": 16,
      "outputs": []
    },
    {
      "cell_type": "code",
      "source": [
        "#data['Preferred ROI']"
      ],
      "metadata": {
        "id": "HU4E4NXbc2Fu"
      },
      "execution_count": 17,
      "outputs": []
    },
    {
      "cell_type": "markdown",
      "source": [
        "##### EMI"
      ],
      "metadata": {
        "id": "53JeZkWH6FfH"
      }
    },
    {
      "cell_type": "code",
      "source": [
        "#P = data['Amount']\n",
        "#r = data['Preferred ROI']\n",
        "#n = data['LoanDuration']"
      ],
      "metadata": {
        "id": "mwpAKE8YgGR9"
      },
      "execution_count": 18,
      "outputs": []
    },
    {
      "cell_type": "code",
      "source": [
        "#data['EMI'] = round(((P * r * (1 + r)**n) / ((1 + r)**n - 1)), 2)"
      ],
      "metadata": {
        "id": "sgjT0nF-gGj8"
      },
      "execution_count": 19,
      "outputs": []
    },
    {
      "cell_type": "code",
      "source": [
        "#data['EMI']"
      ],
      "metadata": {
        "id": "wxF8n3A-8XzV"
      },
      "execution_count": 20,
      "outputs": []
    },
    {
      "cell_type": "markdown",
      "source": [
        "##### Eligible Loan Amount (ELA)"
      ],
      "metadata": {
        "id": "1PzVCZz46p67"
      }
    },
    {
      "cell_type": "code",
      "source": [
        "#data['IncomeTotal']"
      ],
      "metadata": {
        "id": "YouL5Zz6huye"
      },
      "execution_count": 21,
      "outputs": []
    },
    {
      "cell_type": "code",
      "source": [
        "#data['LiabilitiesTotal']"
      ],
      "metadata": {
        "id": "EqhFniXhhu1L"
      },
      "execution_count": 22,
      "outputs": []
    },
    {
      "cell_type": "code",
      "source": [
        "#data['ELA'] = data['IncomeTotal'] - data['LiabilitiesTotal']"
      ],
      "metadata": {
        "id": "NqRQHuT7hu4p"
      },
      "execution_count": 23,
      "outputs": []
    },
    {
      "cell_type": "code",
      "source": [
        "#data['ELA']"
      ],
      "metadata": {
        "id": "LhPsBAb78J6c"
      },
      "execution_count": 24,
      "outputs": []
    },
    {
      "cell_type": "markdown",
      "source": [
        "######DefaultDate is the Most Significant Feature as This Represents our Target Variable; If any Date is Available that means Person has Default by Bank otherwise Not"
      ],
      "metadata": {
        "id": "1ZZTS_pdFuf3"
      }
    },
    {
      "cell_type": "code",
      "source": [
        "data['DefaultDate']"
      ],
      "metadata": {
        "colab": {
          "base_uri": "https://localhost:8080/"
        },
        "id": "TZdBPFIoLs4M",
        "outputId": "bd8693f2-7a54-44d8-fa51-f8c3631841d0"
      },
      "execution_count": 25,
      "outputs": [
        {
          "output_type": "execute_result",
          "data": {
            "text/plain": [
              "0               NaN\n",
              "1               NaN\n",
              "2        16-07-2012\n",
              "3               NaN\n",
              "4        28-09-2009\n",
              "            ...    \n",
              "34717           NaN\n",
              "34718    05-06-2018\n",
              "34719           NaN\n",
              "34720    20-03-2018\n",
              "34721    17-08-2018\n",
              "Name: DefaultDate, Length: 34722, dtype: object"
            ]
          },
          "metadata": {},
          "execution_count": 25
        }
      ]
    },
    {
      "cell_type": "code",
      "source": [
        "data['DefaultDate'].isnull().sum()"
      ],
      "metadata": {
        "colab": {
          "base_uri": "https://localhost:8080/"
        },
        "id": "VYuZuO0qNwXe",
        "outputId": "3072ef98-c668-4faa-d77e-54c05b0f754b"
      },
      "execution_count": 26,
      "outputs": [
        {
          "output_type": "execute_result",
          "data": {
            "text/plain": [
              "15702"
            ]
          },
          "metadata": {},
          "execution_count": 26
        }
      ]
    },
    {
      "cell_type": "code",
      "source": [
        "data['DefaultDate'].dtype"
      ],
      "metadata": {
        "colab": {
          "base_uri": "https://localhost:8080/"
        },
        "id": "ILcSN6_6NweR",
        "outputId": "fc230393-a850-403d-d4f9-343840c2c4a7"
      },
      "execution_count": 27,
      "outputs": [
        {
          "output_type": "execute_result",
          "data": {
            "text/plain": [
              "dtype('O')"
            ]
          },
          "metadata": {},
          "execution_count": 27
        }
      ]
    },
    {
      "cell_type": "code",
      "source": [
        "# Collection Indexes for the Valid Default Dates\n",
        "\n",
        "late_payers = data.loc[pd.isna(data['DefaultDate']), :].index"
      ],
      "metadata": {
        "id": "Gum23hHQOApW"
      },
      "execution_count": 28,
      "outputs": []
    },
    {
      "cell_type": "code",
      "source": [
        "late_payers"
      ],
      "metadata": {
        "colab": {
          "base_uri": "https://localhost:8080/"
        },
        "id": "zI_G2SdCOZJI",
        "outputId": "303cc649-ba9f-47f7-cdc7-2299451b982e"
      },
      "execution_count": 29,
      "outputs": [
        {
          "output_type": "execute_result",
          "data": {
            "text/plain": [
              "Int64Index([    0,     1,     3,     9,    11,    12,    13,    18,    20,\n",
              "               22,\n",
              "            ...\n",
              "            34689, 34691, 34695, 34698, 34699, 34700, 34709, 34710, 34717,\n",
              "            34719],\n",
              "           dtype='int64', length=15702)"
            ]
          },
          "metadata": {},
          "execution_count": 29
        }
      ]
    },
    {
      "cell_type": "markdown",
      "source": [
        "######Creating New Target Variable or Feature and Encoding in Boolean According to DefaultDate"
      ],
      "metadata": {
        "id": "zh5e2hnvGYW_"
      }
    },
    {
      "cell_type": "code",
      "source": [
        "li = []\n",
        "\n",
        "for i in range(0, 34722):  #17933\n",
        "  if i in late_payers:\n",
        "    li.append(1)\n",
        "  else:\n",
        "    li.append(0)\n",
        "\n",
        "len(li)"
      ],
      "metadata": {
        "colab": {
          "base_uri": "https://localhost:8080/"
        },
        "id": "-X6HsIe0YaJi",
        "outputId": "57d36f73-6c50-4404-93c9-ac4e463fe887"
      },
      "execution_count": 30,
      "outputs": [
        {
          "output_type": "execute_result",
          "data": {
            "text/plain": [
              "34722"
            ]
          },
          "metadata": {},
          "execution_count": 30
        }
      ]
    },
    {
      "cell_type": "code",
      "source": [
        "li = pd.DataFrame({'Target' : li})\n",
        "li"
      ],
      "metadata": {
        "colab": {
          "base_uri": "https://localhost:8080/",
          "height": 424
        },
        "id": "tHLB9KPjYaNC",
        "outputId": "e02a842b-593b-4e75-cac7-50b7c66e2906"
      },
      "execution_count": 31,
      "outputs": [
        {
          "output_type": "execute_result",
          "data": {
            "text/plain": [
              "       Target\n",
              "0           1\n",
              "1           1\n",
              "2           0\n",
              "3           1\n",
              "4           0\n",
              "...       ...\n",
              "34717       1\n",
              "34718       0\n",
              "34719       1\n",
              "34720       0\n",
              "34721       0\n",
              "\n",
              "[34722 rows x 1 columns]"
            ],
            "text/html": [
              "\n",
              "  <div id=\"df-e80b01c8-f746-41b3-86a5-de21b3dfb9c4\">\n",
              "    <div class=\"colab-df-container\">\n",
              "      <div>\n",
              "<style scoped>\n",
              "    .dataframe tbody tr th:only-of-type {\n",
              "        vertical-align: middle;\n",
              "    }\n",
              "\n",
              "    .dataframe tbody tr th {\n",
              "        vertical-align: top;\n",
              "    }\n",
              "\n",
              "    .dataframe thead th {\n",
              "        text-align: right;\n",
              "    }\n",
              "</style>\n",
              "<table border=\"1\" class=\"dataframe\">\n",
              "  <thead>\n",
              "    <tr style=\"text-align: right;\">\n",
              "      <th></th>\n",
              "      <th>Target</th>\n",
              "    </tr>\n",
              "  </thead>\n",
              "  <tbody>\n",
              "    <tr>\n",
              "      <th>0</th>\n",
              "      <td>1</td>\n",
              "    </tr>\n",
              "    <tr>\n",
              "      <th>1</th>\n",
              "      <td>1</td>\n",
              "    </tr>\n",
              "    <tr>\n",
              "      <th>2</th>\n",
              "      <td>0</td>\n",
              "    </tr>\n",
              "    <tr>\n",
              "      <th>3</th>\n",
              "      <td>1</td>\n",
              "    </tr>\n",
              "    <tr>\n",
              "      <th>4</th>\n",
              "      <td>0</td>\n",
              "    </tr>\n",
              "    <tr>\n",
              "      <th>...</th>\n",
              "      <td>...</td>\n",
              "    </tr>\n",
              "    <tr>\n",
              "      <th>34717</th>\n",
              "      <td>1</td>\n",
              "    </tr>\n",
              "    <tr>\n",
              "      <th>34718</th>\n",
              "      <td>0</td>\n",
              "    </tr>\n",
              "    <tr>\n",
              "      <th>34719</th>\n",
              "      <td>1</td>\n",
              "    </tr>\n",
              "    <tr>\n",
              "      <th>34720</th>\n",
              "      <td>0</td>\n",
              "    </tr>\n",
              "    <tr>\n",
              "      <th>34721</th>\n",
              "      <td>0</td>\n",
              "    </tr>\n",
              "  </tbody>\n",
              "</table>\n",
              "<p>34722 rows × 1 columns</p>\n",
              "</div>\n",
              "      <button class=\"colab-df-convert\" onclick=\"convertToInteractive('df-e80b01c8-f746-41b3-86a5-de21b3dfb9c4')\"\n",
              "              title=\"Convert this dataframe to an interactive table.\"\n",
              "              style=\"display:none;\">\n",
              "        \n",
              "  <svg xmlns=\"http://www.w3.org/2000/svg\" height=\"24px\"viewBox=\"0 0 24 24\"\n",
              "       width=\"24px\">\n",
              "    <path d=\"M0 0h24v24H0V0z\" fill=\"none\"/>\n",
              "    <path d=\"M18.56 5.44l.94 2.06.94-2.06 2.06-.94-2.06-.94-.94-2.06-.94 2.06-2.06.94zm-11 1L8.5 8.5l.94-2.06 2.06-.94-2.06-.94L8.5 2.5l-.94 2.06-2.06.94zm10 10l.94 2.06.94-2.06 2.06-.94-2.06-.94-.94-2.06-.94 2.06-2.06.94z\"/><path d=\"M17.41 7.96l-1.37-1.37c-.4-.4-.92-.59-1.43-.59-.52 0-1.04.2-1.43.59L10.3 9.45l-7.72 7.72c-.78.78-.78 2.05 0 2.83L4 21.41c.39.39.9.59 1.41.59.51 0 1.02-.2 1.41-.59l7.78-7.78 2.81-2.81c.8-.78.8-2.07 0-2.86zM5.41 20L4 18.59l7.72-7.72 1.47 1.35L5.41 20z\"/>\n",
              "  </svg>\n",
              "      </button>\n",
              "      \n",
              "  <style>\n",
              "    .colab-df-container {\n",
              "      display:flex;\n",
              "      flex-wrap:wrap;\n",
              "      gap: 12px;\n",
              "    }\n",
              "\n",
              "    .colab-df-convert {\n",
              "      background-color: #E8F0FE;\n",
              "      border: none;\n",
              "      border-radius: 50%;\n",
              "      cursor: pointer;\n",
              "      display: none;\n",
              "      fill: #1967D2;\n",
              "      height: 32px;\n",
              "      padding: 0 0 0 0;\n",
              "      width: 32px;\n",
              "    }\n",
              "\n",
              "    .colab-df-convert:hover {\n",
              "      background-color: #E2EBFA;\n",
              "      box-shadow: 0px 1px 2px rgba(60, 64, 67, 0.3), 0px 1px 3px 1px rgba(60, 64, 67, 0.15);\n",
              "      fill: #174EA6;\n",
              "    }\n",
              "\n",
              "    [theme=dark] .colab-df-convert {\n",
              "      background-color: #3B4455;\n",
              "      fill: #D2E3FC;\n",
              "    }\n",
              "\n",
              "    [theme=dark] .colab-df-convert:hover {\n",
              "      background-color: #434B5C;\n",
              "      box-shadow: 0px 1px 3px 1px rgba(0, 0, 0, 0.15);\n",
              "      filter: drop-shadow(0px 1px 2px rgba(0, 0, 0, 0.3));\n",
              "      fill: #FFFFFF;\n",
              "    }\n",
              "  </style>\n",
              "\n",
              "      <script>\n",
              "        const buttonEl =\n",
              "          document.querySelector('#df-e80b01c8-f746-41b3-86a5-de21b3dfb9c4 button.colab-df-convert');\n",
              "        buttonEl.style.display =\n",
              "          google.colab.kernel.accessAllowed ? 'block' : 'none';\n",
              "\n",
              "        async function convertToInteractive(key) {\n",
              "          const element = document.querySelector('#df-e80b01c8-f746-41b3-86a5-de21b3dfb9c4');\n",
              "          const dataTable =\n",
              "            await google.colab.kernel.invokeFunction('convertToInteractive',\n",
              "                                                     [key], {});\n",
              "          if (!dataTable) return;\n",
              "\n",
              "          const docLinkHtml = 'Like what you see? Visit the ' +\n",
              "            '<a target=\"_blank\" href=https://colab.research.google.com/notebooks/data_table.ipynb>data table notebook</a>'\n",
              "            + ' to learn more about interactive tables.';\n",
              "          element.innerHTML = '';\n",
              "          dataTable['output_type'] = 'display_data';\n",
              "          await google.colab.output.renderOutput(dataTable, element);\n",
              "          const docLink = document.createElement('div');\n",
              "          docLink.innerHTML = docLinkHtml;\n",
              "          element.appendChild(docLink);\n",
              "        }\n",
              "      </script>\n",
              "    </div>\n",
              "  </div>\n",
              "  "
            ]
          },
          "metadata": {},
          "execution_count": 31
        }
      ]
    },
    {
      "cell_type": "code",
      "source": [
        "# Grouped our Processed Data and Target Feature\n",
        "\n",
        "frames = [data, li]\n",
        "  \n",
        "data = pd.concat(frames, axis=1, join='inner')\n",
        "display(data)"
      ],
      "metadata": {
        "colab": {
          "base_uri": "https://localhost:8080/",
          "height": 488
        },
        "id": "8KteJMa0ar-E",
        "outputId": "8c0ae209-fa57-4f03-f95e-600200c8a452"
      },
      "execution_count": 32,
      "outputs": [
        {
          "output_type": "display_data",
          "data": {
            "text/plain": [
              "       LoanNumber  NewCreditCustomer  Age  Gender     Amount  Interest  \\\n",
              "0             659               True   61     1.0   115.0408     30.00   \n",
              "1             654              False   48     1.0   140.6057     25.00   \n",
              "2             641               True   58     1.0   319.5409     25.00   \n",
              "3             668               True   23     1.0    57.5205     45.00   \n",
              "4             652               True   25     1.0   319.5436     30.00   \n",
              "...           ...                ...  ...     ...        ...       ...   \n",
              "34717      719292               True   60     0.0   530.0000     22.33   \n",
              "34718      719219               True   62     0.0  3185.0000     48.90   \n",
              "34719      719319               True   28     0.0  1590.0000     33.70   \n",
              "34720      719268               True   50     0.0   530.0000     11.18   \n",
              "34721      719359               True   31     0.0  2125.0000     34.38   \n",
              "\n",
              "       LoanDuration  UseOfLoan  Education  MaritalStatus  ...  DefaultDate  \\\n",
              "0                12          7        3.0            1.0  ...          NaN   \n",
              "1                 1          7        5.0            4.0  ...          NaN   \n",
              "2                20          2        4.0            1.0  ...   16-07-2012   \n",
              "3                15          0        2.0            3.0  ...          NaN   \n",
              "4                12          6        4.0            2.0  ...   28-09-2009   \n",
              "...             ...        ...        ...            ...  ...          ...   \n",
              "34717            60         -1        5.0           -1.0  ...          NaN   \n",
              "34718            36         -1        4.0           -1.0  ...   05-06-2018   \n",
              "34719            36         -1        4.0           -1.0  ...          NaN   \n",
              "34720            36         -1        3.0           -1.0  ...   20-03-2018   \n",
              "34721            60         -1        4.0           -1.0  ...   17-08-2018   \n",
              "\n",
              "        Status  Restructured  NoOfPreviousLoansBeforeLoan  \\\n",
              "0       Repaid         False                            1   \n",
              "1       Repaid         False                            2   \n",
              "2         Late          True                            0   \n",
              "3       Repaid         False                            1   \n",
              "4       Repaid         False                            1   \n",
              "...        ...           ...                          ...   \n",
              "34717  Current         False                            0   \n",
              "34718     Late         False                            0   \n",
              "34719   Repaid         False                            0   \n",
              "34720     Late         False                            0   \n",
              "34721     Late         False                            0   \n",
              "\n",
              "       AmountOfPreviousLoansBeforeLoan  PreviousRepaymentsBeforeLoan  \\\n",
              "0                              83.0852                        0.0000   \n",
              "1                             255.6467                      258.6256   \n",
              "2                               0.0000                        0.0000   \n",
              "3                             134.2144                        0.0000   \n",
              "4                             146.9966                        0.0000   \n",
              "...                                ...                           ...   \n",
              "34717                           0.0000                        0.0000   \n",
              "34718                           0.0000                        0.0000   \n",
              "34719                           0.0000                        0.0000   \n",
              "34720                           0.0000                        0.0000   \n",
              "34721                           0.0000                        0.0000   \n",
              "\n",
              "      PreviousEarlyRepaymentsCountBeforeLoan PrincipalDebtServicingCost  \\\n",
              "0                                          0                        0.0   \n",
              "1                                          0                        0.0   \n",
              "2                                          0                        0.0   \n",
              "3                                          0                        0.0   \n",
              "4                                          0                        0.0   \n",
              "...                                      ...                        ...   \n",
              "34717                                      0                        0.0   \n",
              "34718                                      0                        0.0   \n",
              "34719                                      0                        0.0   \n",
              "34720                                      0                        0.0   \n",
              "34721                                      0                        0.0   \n",
              "\n",
              "       InterestAndPenaltyDebtServicingCost  Target  \n",
              "0                                      0.0       1  \n",
              "1                                      0.0       1  \n",
              "2                                      0.0       0  \n",
              "3                                      0.0       1  \n",
              "4                                      0.0       0  \n",
              "...                                    ...     ...  \n",
              "34717                                  0.0       1  \n",
              "34718                                  0.0       0  \n",
              "34719                                  0.0       1  \n",
              "34720                                  0.0       0  \n",
              "34721                                  0.0       0  \n",
              "\n",
              "[34722 rows x 26 columns]"
            ],
            "text/html": [
              "\n",
              "  <div id=\"df-1c1e7586-4faf-43e9-a450-60ea0d57b69d\">\n",
              "    <div class=\"colab-df-container\">\n",
              "      <div>\n",
              "<style scoped>\n",
              "    .dataframe tbody tr th:only-of-type {\n",
              "        vertical-align: middle;\n",
              "    }\n",
              "\n",
              "    .dataframe tbody tr th {\n",
              "        vertical-align: top;\n",
              "    }\n",
              "\n",
              "    .dataframe thead th {\n",
              "        text-align: right;\n",
              "    }\n",
              "</style>\n",
              "<table border=\"1\" class=\"dataframe\">\n",
              "  <thead>\n",
              "    <tr style=\"text-align: right;\">\n",
              "      <th></th>\n",
              "      <th>LoanNumber</th>\n",
              "      <th>NewCreditCustomer</th>\n",
              "      <th>Age</th>\n",
              "      <th>Gender</th>\n",
              "      <th>Amount</th>\n",
              "      <th>Interest</th>\n",
              "      <th>LoanDuration</th>\n",
              "      <th>UseOfLoan</th>\n",
              "      <th>Education</th>\n",
              "      <th>MaritalStatus</th>\n",
              "      <th>...</th>\n",
              "      <th>DefaultDate</th>\n",
              "      <th>Status</th>\n",
              "      <th>Restructured</th>\n",
              "      <th>NoOfPreviousLoansBeforeLoan</th>\n",
              "      <th>AmountOfPreviousLoansBeforeLoan</th>\n",
              "      <th>PreviousRepaymentsBeforeLoan</th>\n",
              "      <th>PreviousEarlyRepaymentsCountBeforeLoan</th>\n",
              "      <th>PrincipalDebtServicingCost</th>\n",
              "      <th>InterestAndPenaltyDebtServicingCost</th>\n",
              "      <th>Target</th>\n",
              "    </tr>\n",
              "  </thead>\n",
              "  <tbody>\n",
              "    <tr>\n",
              "      <th>0</th>\n",
              "      <td>659</td>\n",
              "      <td>True</td>\n",
              "      <td>61</td>\n",
              "      <td>1.0</td>\n",
              "      <td>115.0408</td>\n",
              "      <td>30.00</td>\n",
              "      <td>12</td>\n",
              "      <td>7</td>\n",
              "      <td>3.0</td>\n",
              "      <td>1.0</td>\n",
              "      <td>...</td>\n",
              "      <td>NaN</td>\n",
              "      <td>Repaid</td>\n",
              "      <td>False</td>\n",
              "      <td>1</td>\n",
              "      <td>83.0852</td>\n",
              "      <td>0.0000</td>\n",
              "      <td>0</td>\n",
              "      <td>0.0</td>\n",
              "      <td>0.0</td>\n",
              "      <td>1</td>\n",
              "    </tr>\n",
              "    <tr>\n",
              "      <th>1</th>\n",
              "      <td>654</td>\n",
              "      <td>False</td>\n",
              "      <td>48</td>\n",
              "      <td>1.0</td>\n",
              "      <td>140.6057</td>\n",
              "      <td>25.00</td>\n",
              "      <td>1</td>\n",
              "      <td>7</td>\n",
              "      <td>5.0</td>\n",
              "      <td>4.0</td>\n",
              "      <td>...</td>\n",
              "      <td>NaN</td>\n",
              "      <td>Repaid</td>\n",
              "      <td>False</td>\n",
              "      <td>2</td>\n",
              "      <td>255.6467</td>\n",
              "      <td>258.6256</td>\n",
              "      <td>0</td>\n",
              "      <td>0.0</td>\n",
              "      <td>0.0</td>\n",
              "      <td>1</td>\n",
              "    </tr>\n",
              "    <tr>\n",
              "      <th>2</th>\n",
              "      <td>641</td>\n",
              "      <td>True</td>\n",
              "      <td>58</td>\n",
              "      <td>1.0</td>\n",
              "      <td>319.5409</td>\n",
              "      <td>25.00</td>\n",
              "      <td>20</td>\n",
              "      <td>2</td>\n",
              "      <td>4.0</td>\n",
              "      <td>1.0</td>\n",
              "      <td>...</td>\n",
              "      <td>16-07-2012</td>\n",
              "      <td>Late</td>\n",
              "      <td>True</td>\n",
              "      <td>0</td>\n",
              "      <td>0.0000</td>\n",
              "      <td>0.0000</td>\n",
              "      <td>0</td>\n",
              "      <td>0.0</td>\n",
              "      <td>0.0</td>\n",
              "      <td>0</td>\n",
              "    </tr>\n",
              "    <tr>\n",
              "      <th>3</th>\n",
              "      <td>668</td>\n",
              "      <td>True</td>\n",
              "      <td>23</td>\n",
              "      <td>1.0</td>\n",
              "      <td>57.5205</td>\n",
              "      <td>45.00</td>\n",
              "      <td>15</td>\n",
              "      <td>0</td>\n",
              "      <td>2.0</td>\n",
              "      <td>3.0</td>\n",
              "      <td>...</td>\n",
              "      <td>NaN</td>\n",
              "      <td>Repaid</td>\n",
              "      <td>False</td>\n",
              "      <td>1</td>\n",
              "      <td>134.2144</td>\n",
              "      <td>0.0000</td>\n",
              "      <td>0</td>\n",
              "      <td>0.0</td>\n",
              "      <td>0.0</td>\n",
              "      <td>1</td>\n",
              "    </tr>\n",
              "    <tr>\n",
              "      <th>4</th>\n",
              "      <td>652</td>\n",
              "      <td>True</td>\n",
              "      <td>25</td>\n",
              "      <td>1.0</td>\n",
              "      <td>319.5436</td>\n",
              "      <td>30.00</td>\n",
              "      <td>12</td>\n",
              "      <td>6</td>\n",
              "      <td>4.0</td>\n",
              "      <td>2.0</td>\n",
              "      <td>...</td>\n",
              "      <td>28-09-2009</td>\n",
              "      <td>Repaid</td>\n",
              "      <td>False</td>\n",
              "      <td>1</td>\n",
              "      <td>146.9966</td>\n",
              "      <td>0.0000</td>\n",
              "      <td>0</td>\n",
              "      <td>0.0</td>\n",
              "      <td>0.0</td>\n",
              "      <td>0</td>\n",
              "    </tr>\n",
              "    <tr>\n",
              "      <th>...</th>\n",
              "      <td>...</td>\n",
              "      <td>...</td>\n",
              "      <td>...</td>\n",
              "      <td>...</td>\n",
              "      <td>...</td>\n",
              "      <td>...</td>\n",
              "      <td>...</td>\n",
              "      <td>...</td>\n",
              "      <td>...</td>\n",
              "      <td>...</td>\n",
              "      <td>...</td>\n",
              "      <td>...</td>\n",
              "      <td>...</td>\n",
              "      <td>...</td>\n",
              "      <td>...</td>\n",
              "      <td>...</td>\n",
              "      <td>...</td>\n",
              "      <td>...</td>\n",
              "      <td>...</td>\n",
              "      <td>...</td>\n",
              "      <td>...</td>\n",
              "    </tr>\n",
              "    <tr>\n",
              "      <th>34717</th>\n",
              "      <td>719292</td>\n",
              "      <td>True</td>\n",
              "      <td>60</td>\n",
              "      <td>0.0</td>\n",
              "      <td>530.0000</td>\n",
              "      <td>22.33</td>\n",
              "      <td>60</td>\n",
              "      <td>-1</td>\n",
              "      <td>5.0</td>\n",
              "      <td>-1.0</td>\n",
              "      <td>...</td>\n",
              "      <td>NaN</td>\n",
              "      <td>Current</td>\n",
              "      <td>False</td>\n",
              "      <td>0</td>\n",
              "      <td>0.0000</td>\n",
              "      <td>0.0000</td>\n",
              "      <td>0</td>\n",
              "      <td>0.0</td>\n",
              "      <td>0.0</td>\n",
              "      <td>1</td>\n",
              "    </tr>\n",
              "    <tr>\n",
              "      <th>34718</th>\n",
              "      <td>719219</td>\n",
              "      <td>True</td>\n",
              "      <td>62</td>\n",
              "      <td>0.0</td>\n",
              "      <td>3185.0000</td>\n",
              "      <td>48.90</td>\n",
              "      <td>36</td>\n",
              "      <td>-1</td>\n",
              "      <td>4.0</td>\n",
              "      <td>-1.0</td>\n",
              "      <td>...</td>\n",
              "      <td>05-06-2018</td>\n",
              "      <td>Late</td>\n",
              "      <td>False</td>\n",
              "      <td>0</td>\n",
              "      <td>0.0000</td>\n",
              "      <td>0.0000</td>\n",
              "      <td>0</td>\n",
              "      <td>0.0</td>\n",
              "      <td>0.0</td>\n",
              "      <td>0</td>\n",
              "    </tr>\n",
              "    <tr>\n",
              "      <th>34719</th>\n",
              "      <td>719319</td>\n",
              "      <td>True</td>\n",
              "      <td>28</td>\n",
              "      <td>0.0</td>\n",
              "      <td>1590.0000</td>\n",
              "      <td>33.70</td>\n",
              "      <td>36</td>\n",
              "      <td>-1</td>\n",
              "      <td>4.0</td>\n",
              "      <td>-1.0</td>\n",
              "      <td>...</td>\n",
              "      <td>NaN</td>\n",
              "      <td>Repaid</td>\n",
              "      <td>False</td>\n",
              "      <td>0</td>\n",
              "      <td>0.0000</td>\n",
              "      <td>0.0000</td>\n",
              "      <td>0</td>\n",
              "      <td>0.0</td>\n",
              "      <td>0.0</td>\n",
              "      <td>1</td>\n",
              "    </tr>\n",
              "    <tr>\n",
              "      <th>34720</th>\n",
              "      <td>719268</td>\n",
              "      <td>True</td>\n",
              "      <td>50</td>\n",
              "      <td>0.0</td>\n",
              "      <td>530.0000</td>\n",
              "      <td>11.18</td>\n",
              "      <td>36</td>\n",
              "      <td>-1</td>\n",
              "      <td>3.0</td>\n",
              "      <td>-1.0</td>\n",
              "      <td>...</td>\n",
              "      <td>20-03-2018</td>\n",
              "      <td>Late</td>\n",
              "      <td>False</td>\n",
              "      <td>0</td>\n",
              "      <td>0.0000</td>\n",
              "      <td>0.0000</td>\n",
              "      <td>0</td>\n",
              "      <td>0.0</td>\n",
              "      <td>0.0</td>\n",
              "      <td>0</td>\n",
              "    </tr>\n",
              "    <tr>\n",
              "      <th>34721</th>\n",
              "      <td>719359</td>\n",
              "      <td>True</td>\n",
              "      <td>31</td>\n",
              "      <td>0.0</td>\n",
              "      <td>2125.0000</td>\n",
              "      <td>34.38</td>\n",
              "      <td>60</td>\n",
              "      <td>-1</td>\n",
              "      <td>4.0</td>\n",
              "      <td>-1.0</td>\n",
              "      <td>...</td>\n",
              "      <td>17-08-2018</td>\n",
              "      <td>Late</td>\n",
              "      <td>False</td>\n",
              "      <td>0</td>\n",
              "      <td>0.0000</td>\n",
              "      <td>0.0000</td>\n",
              "      <td>0</td>\n",
              "      <td>0.0</td>\n",
              "      <td>0.0</td>\n",
              "      <td>0</td>\n",
              "    </tr>\n",
              "  </tbody>\n",
              "</table>\n",
              "<p>34722 rows × 26 columns</p>\n",
              "</div>\n",
              "      <button class=\"colab-df-convert\" onclick=\"convertToInteractive('df-1c1e7586-4faf-43e9-a450-60ea0d57b69d')\"\n",
              "              title=\"Convert this dataframe to an interactive table.\"\n",
              "              style=\"display:none;\">\n",
              "        \n",
              "  <svg xmlns=\"http://www.w3.org/2000/svg\" height=\"24px\"viewBox=\"0 0 24 24\"\n",
              "       width=\"24px\">\n",
              "    <path d=\"M0 0h24v24H0V0z\" fill=\"none\"/>\n",
              "    <path d=\"M18.56 5.44l.94 2.06.94-2.06 2.06-.94-2.06-.94-.94-2.06-.94 2.06-2.06.94zm-11 1L8.5 8.5l.94-2.06 2.06-.94-2.06-.94L8.5 2.5l-.94 2.06-2.06.94zm10 10l.94 2.06.94-2.06 2.06-.94-2.06-.94-.94-2.06-.94 2.06-2.06.94z\"/><path d=\"M17.41 7.96l-1.37-1.37c-.4-.4-.92-.59-1.43-.59-.52 0-1.04.2-1.43.59L10.3 9.45l-7.72 7.72c-.78.78-.78 2.05 0 2.83L4 21.41c.39.39.9.59 1.41.59.51 0 1.02-.2 1.41-.59l7.78-7.78 2.81-2.81c.8-.78.8-2.07 0-2.86zM5.41 20L4 18.59l7.72-7.72 1.47 1.35L5.41 20z\"/>\n",
              "  </svg>\n",
              "      </button>\n",
              "      \n",
              "  <style>\n",
              "    .colab-df-container {\n",
              "      display:flex;\n",
              "      flex-wrap:wrap;\n",
              "      gap: 12px;\n",
              "    }\n",
              "\n",
              "    .colab-df-convert {\n",
              "      background-color: #E8F0FE;\n",
              "      border: none;\n",
              "      border-radius: 50%;\n",
              "      cursor: pointer;\n",
              "      display: none;\n",
              "      fill: #1967D2;\n",
              "      height: 32px;\n",
              "      padding: 0 0 0 0;\n",
              "      width: 32px;\n",
              "    }\n",
              "\n",
              "    .colab-df-convert:hover {\n",
              "      background-color: #E2EBFA;\n",
              "      box-shadow: 0px 1px 2px rgba(60, 64, 67, 0.3), 0px 1px 3px 1px rgba(60, 64, 67, 0.15);\n",
              "      fill: #174EA6;\n",
              "    }\n",
              "\n",
              "    [theme=dark] .colab-df-convert {\n",
              "      background-color: #3B4455;\n",
              "      fill: #D2E3FC;\n",
              "    }\n",
              "\n",
              "    [theme=dark] .colab-df-convert:hover {\n",
              "      background-color: #434B5C;\n",
              "      box-shadow: 0px 1px 3px 1px rgba(0, 0, 0, 0.15);\n",
              "      filter: drop-shadow(0px 1px 2px rgba(0, 0, 0, 0.3));\n",
              "      fill: #FFFFFF;\n",
              "    }\n",
              "  </style>\n",
              "\n",
              "      <script>\n",
              "        const buttonEl =\n",
              "          document.querySelector('#df-1c1e7586-4faf-43e9-a450-60ea0d57b69d button.colab-df-convert');\n",
              "        buttonEl.style.display =\n",
              "          google.colab.kernel.accessAllowed ? 'block' : 'none';\n",
              "\n",
              "        async function convertToInteractive(key) {\n",
              "          const element = document.querySelector('#df-1c1e7586-4faf-43e9-a450-60ea0d57b69d');\n",
              "          const dataTable =\n",
              "            await google.colab.kernel.invokeFunction('convertToInteractive',\n",
              "                                                     [key], {});\n",
              "          if (!dataTable) return;\n",
              "\n",
              "          const docLinkHtml = 'Like what you see? Visit the ' +\n",
              "            '<a target=\"_blank\" href=https://colab.research.google.com/notebooks/data_table.ipynb>data table notebook</a>'\n",
              "            + ' to learn more about interactive tables.';\n",
              "          element.innerHTML = '';\n",
              "          dataTable['output_type'] = 'display_data';\n",
              "          await google.colab.output.renderOutput(dataTable, element);\n",
              "          const docLink = document.createElement('div');\n",
              "          docLink.innerHTML = docLinkHtml;\n",
              "          element.appendChild(docLink);\n",
              "        }\n",
              "      </script>\n",
              "    </div>\n",
              "  </div>\n",
              "  "
            ]
          },
          "metadata": {}
        }
      ]
    },
    {
      "cell_type": "code",
      "source": [
        "data.drop('DefaultDate', axis = 1, inplace = True)\n",
        "\n",
        "data.head(5)"
      ],
      "metadata": {
        "colab": {
          "base_uri": "https://localhost:8080/",
          "height": 300
        },
        "id": "D9-69HZ5asBe",
        "outputId": "233cc5f9-5652-4269-a82b-6bdf5efd904f"
      },
      "execution_count": 33,
      "outputs": [
        {
          "output_type": "execute_result",
          "data": {
            "text/plain": [
              "   LoanNumber  NewCreditCustomer  Age  Gender    Amount  Interest  \\\n",
              "0         659               True   61     1.0  115.0408      30.0   \n",
              "1         654              False   48     1.0  140.6057      25.0   \n",
              "2         641               True   58     1.0  319.5409      25.0   \n",
              "3         668               True   23     1.0   57.5205      45.0   \n",
              "4         652               True   25     1.0  319.5436      30.0   \n",
              "\n",
              "   LoanDuration  UseOfLoan  Education  MaritalStatus  ...  \\\n",
              "0            12          7        3.0            1.0  ...   \n",
              "1             1          7        5.0            4.0  ...   \n",
              "2            20          2        4.0            1.0  ...   \n",
              "3            15          0        2.0            3.0  ...   \n",
              "4            12          6        4.0            2.0  ...   \n",
              "\n",
              "   RefinanceLiabilities  Status  Restructured  NoOfPreviousLoansBeforeLoan  \\\n",
              "0                     0  Repaid         False                            1   \n",
              "1                     0  Repaid         False                            2   \n",
              "2                     0    Late          True                            0   \n",
              "3                     0  Repaid         False                            1   \n",
              "4                     0  Repaid         False                            1   \n",
              "\n",
              "   AmountOfPreviousLoansBeforeLoan  PreviousRepaymentsBeforeLoan  \\\n",
              "0                          83.0852                        0.0000   \n",
              "1                         255.6467                      258.6256   \n",
              "2                           0.0000                        0.0000   \n",
              "3                         134.2144                        0.0000   \n",
              "4                         146.9966                        0.0000   \n",
              "\n",
              "  PreviousEarlyRepaymentsCountBeforeLoan  PrincipalDebtServicingCost  \\\n",
              "0                                      0                         0.0   \n",
              "1                                      0                         0.0   \n",
              "2                                      0                         0.0   \n",
              "3                                      0                         0.0   \n",
              "4                                      0                         0.0   \n",
              "\n",
              "   InterestAndPenaltyDebtServicingCost  Target  \n",
              "0                                  0.0       1  \n",
              "1                                  0.0       1  \n",
              "2                                  0.0       0  \n",
              "3                                  0.0       1  \n",
              "4                                  0.0       0  \n",
              "\n",
              "[5 rows x 25 columns]"
            ],
            "text/html": [
              "\n",
              "  <div id=\"df-d9862d15-447a-4469-b429-83cd9b18b85e\">\n",
              "    <div class=\"colab-df-container\">\n",
              "      <div>\n",
              "<style scoped>\n",
              "    .dataframe tbody tr th:only-of-type {\n",
              "        vertical-align: middle;\n",
              "    }\n",
              "\n",
              "    .dataframe tbody tr th {\n",
              "        vertical-align: top;\n",
              "    }\n",
              "\n",
              "    .dataframe thead th {\n",
              "        text-align: right;\n",
              "    }\n",
              "</style>\n",
              "<table border=\"1\" class=\"dataframe\">\n",
              "  <thead>\n",
              "    <tr style=\"text-align: right;\">\n",
              "      <th></th>\n",
              "      <th>LoanNumber</th>\n",
              "      <th>NewCreditCustomer</th>\n",
              "      <th>Age</th>\n",
              "      <th>Gender</th>\n",
              "      <th>Amount</th>\n",
              "      <th>Interest</th>\n",
              "      <th>LoanDuration</th>\n",
              "      <th>UseOfLoan</th>\n",
              "      <th>Education</th>\n",
              "      <th>MaritalStatus</th>\n",
              "      <th>...</th>\n",
              "      <th>RefinanceLiabilities</th>\n",
              "      <th>Status</th>\n",
              "      <th>Restructured</th>\n",
              "      <th>NoOfPreviousLoansBeforeLoan</th>\n",
              "      <th>AmountOfPreviousLoansBeforeLoan</th>\n",
              "      <th>PreviousRepaymentsBeforeLoan</th>\n",
              "      <th>PreviousEarlyRepaymentsCountBeforeLoan</th>\n",
              "      <th>PrincipalDebtServicingCost</th>\n",
              "      <th>InterestAndPenaltyDebtServicingCost</th>\n",
              "      <th>Target</th>\n",
              "    </tr>\n",
              "  </thead>\n",
              "  <tbody>\n",
              "    <tr>\n",
              "      <th>0</th>\n",
              "      <td>659</td>\n",
              "      <td>True</td>\n",
              "      <td>61</td>\n",
              "      <td>1.0</td>\n",
              "      <td>115.0408</td>\n",
              "      <td>30.0</td>\n",
              "      <td>12</td>\n",
              "      <td>7</td>\n",
              "      <td>3.0</td>\n",
              "      <td>1.0</td>\n",
              "      <td>...</td>\n",
              "      <td>0</td>\n",
              "      <td>Repaid</td>\n",
              "      <td>False</td>\n",
              "      <td>1</td>\n",
              "      <td>83.0852</td>\n",
              "      <td>0.0000</td>\n",
              "      <td>0</td>\n",
              "      <td>0.0</td>\n",
              "      <td>0.0</td>\n",
              "      <td>1</td>\n",
              "    </tr>\n",
              "    <tr>\n",
              "      <th>1</th>\n",
              "      <td>654</td>\n",
              "      <td>False</td>\n",
              "      <td>48</td>\n",
              "      <td>1.0</td>\n",
              "      <td>140.6057</td>\n",
              "      <td>25.0</td>\n",
              "      <td>1</td>\n",
              "      <td>7</td>\n",
              "      <td>5.0</td>\n",
              "      <td>4.0</td>\n",
              "      <td>...</td>\n",
              "      <td>0</td>\n",
              "      <td>Repaid</td>\n",
              "      <td>False</td>\n",
              "      <td>2</td>\n",
              "      <td>255.6467</td>\n",
              "      <td>258.6256</td>\n",
              "      <td>0</td>\n",
              "      <td>0.0</td>\n",
              "      <td>0.0</td>\n",
              "      <td>1</td>\n",
              "    </tr>\n",
              "    <tr>\n",
              "      <th>2</th>\n",
              "      <td>641</td>\n",
              "      <td>True</td>\n",
              "      <td>58</td>\n",
              "      <td>1.0</td>\n",
              "      <td>319.5409</td>\n",
              "      <td>25.0</td>\n",
              "      <td>20</td>\n",
              "      <td>2</td>\n",
              "      <td>4.0</td>\n",
              "      <td>1.0</td>\n",
              "      <td>...</td>\n",
              "      <td>0</td>\n",
              "      <td>Late</td>\n",
              "      <td>True</td>\n",
              "      <td>0</td>\n",
              "      <td>0.0000</td>\n",
              "      <td>0.0000</td>\n",
              "      <td>0</td>\n",
              "      <td>0.0</td>\n",
              "      <td>0.0</td>\n",
              "      <td>0</td>\n",
              "    </tr>\n",
              "    <tr>\n",
              "      <th>3</th>\n",
              "      <td>668</td>\n",
              "      <td>True</td>\n",
              "      <td>23</td>\n",
              "      <td>1.0</td>\n",
              "      <td>57.5205</td>\n",
              "      <td>45.0</td>\n",
              "      <td>15</td>\n",
              "      <td>0</td>\n",
              "      <td>2.0</td>\n",
              "      <td>3.0</td>\n",
              "      <td>...</td>\n",
              "      <td>0</td>\n",
              "      <td>Repaid</td>\n",
              "      <td>False</td>\n",
              "      <td>1</td>\n",
              "      <td>134.2144</td>\n",
              "      <td>0.0000</td>\n",
              "      <td>0</td>\n",
              "      <td>0.0</td>\n",
              "      <td>0.0</td>\n",
              "      <td>1</td>\n",
              "    </tr>\n",
              "    <tr>\n",
              "      <th>4</th>\n",
              "      <td>652</td>\n",
              "      <td>True</td>\n",
              "      <td>25</td>\n",
              "      <td>1.0</td>\n",
              "      <td>319.5436</td>\n",
              "      <td>30.0</td>\n",
              "      <td>12</td>\n",
              "      <td>6</td>\n",
              "      <td>4.0</td>\n",
              "      <td>2.0</td>\n",
              "      <td>...</td>\n",
              "      <td>0</td>\n",
              "      <td>Repaid</td>\n",
              "      <td>False</td>\n",
              "      <td>1</td>\n",
              "      <td>146.9966</td>\n",
              "      <td>0.0000</td>\n",
              "      <td>0</td>\n",
              "      <td>0.0</td>\n",
              "      <td>0.0</td>\n",
              "      <td>0</td>\n",
              "    </tr>\n",
              "  </tbody>\n",
              "</table>\n",
              "<p>5 rows × 25 columns</p>\n",
              "</div>\n",
              "      <button class=\"colab-df-convert\" onclick=\"convertToInteractive('df-d9862d15-447a-4469-b429-83cd9b18b85e')\"\n",
              "              title=\"Convert this dataframe to an interactive table.\"\n",
              "              style=\"display:none;\">\n",
              "        \n",
              "  <svg xmlns=\"http://www.w3.org/2000/svg\" height=\"24px\"viewBox=\"0 0 24 24\"\n",
              "       width=\"24px\">\n",
              "    <path d=\"M0 0h24v24H0V0z\" fill=\"none\"/>\n",
              "    <path d=\"M18.56 5.44l.94 2.06.94-2.06 2.06-.94-2.06-.94-.94-2.06-.94 2.06-2.06.94zm-11 1L8.5 8.5l.94-2.06 2.06-.94-2.06-.94L8.5 2.5l-.94 2.06-2.06.94zm10 10l.94 2.06.94-2.06 2.06-.94-2.06-.94-.94-2.06-.94 2.06-2.06.94z\"/><path d=\"M17.41 7.96l-1.37-1.37c-.4-.4-.92-.59-1.43-.59-.52 0-1.04.2-1.43.59L10.3 9.45l-7.72 7.72c-.78.78-.78 2.05 0 2.83L4 21.41c.39.39.9.59 1.41.59.51 0 1.02-.2 1.41-.59l7.78-7.78 2.81-2.81c.8-.78.8-2.07 0-2.86zM5.41 20L4 18.59l7.72-7.72 1.47 1.35L5.41 20z\"/>\n",
              "  </svg>\n",
              "      </button>\n",
              "      \n",
              "  <style>\n",
              "    .colab-df-container {\n",
              "      display:flex;\n",
              "      flex-wrap:wrap;\n",
              "      gap: 12px;\n",
              "    }\n",
              "\n",
              "    .colab-df-convert {\n",
              "      background-color: #E8F0FE;\n",
              "      border: none;\n",
              "      border-radius: 50%;\n",
              "      cursor: pointer;\n",
              "      display: none;\n",
              "      fill: #1967D2;\n",
              "      height: 32px;\n",
              "      padding: 0 0 0 0;\n",
              "      width: 32px;\n",
              "    }\n",
              "\n",
              "    .colab-df-convert:hover {\n",
              "      background-color: #E2EBFA;\n",
              "      box-shadow: 0px 1px 2px rgba(60, 64, 67, 0.3), 0px 1px 3px 1px rgba(60, 64, 67, 0.15);\n",
              "      fill: #174EA6;\n",
              "    }\n",
              "\n",
              "    [theme=dark] .colab-df-convert {\n",
              "      background-color: #3B4455;\n",
              "      fill: #D2E3FC;\n",
              "    }\n",
              "\n",
              "    [theme=dark] .colab-df-convert:hover {\n",
              "      background-color: #434B5C;\n",
              "      box-shadow: 0px 1px 3px 1px rgba(0, 0, 0, 0.15);\n",
              "      filter: drop-shadow(0px 1px 2px rgba(0, 0, 0, 0.3));\n",
              "      fill: #FFFFFF;\n",
              "    }\n",
              "  </style>\n",
              "\n",
              "      <script>\n",
              "        const buttonEl =\n",
              "          document.querySelector('#df-d9862d15-447a-4469-b429-83cd9b18b85e button.colab-df-convert');\n",
              "        buttonEl.style.display =\n",
              "          google.colab.kernel.accessAllowed ? 'block' : 'none';\n",
              "\n",
              "        async function convertToInteractive(key) {\n",
              "          const element = document.querySelector('#df-d9862d15-447a-4469-b429-83cd9b18b85e');\n",
              "          const dataTable =\n",
              "            await google.colab.kernel.invokeFunction('convertToInteractive',\n",
              "                                                     [key], {});\n",
              "          if (!dataTable) return;\n",
              "\n",
              "          const docLinkHtml = 'Like what you see? Visit the ' +\n",
              "            '<a target=\"_blank\" href=https://colab.research.google.com/notebooks/data_table.ipynb>data table notebook</a>'\n",
              "            + ' to learn more about interactive tables.';\n",
              "          element.innerHTML = '';\n",
              "          dataTable['output_type'] = 'display_data';\n",
              "          await google.colab.output.renderOutput(dataTable, element);\n",
              "          const docLink = document.createElement('div');\n",
              "          docLink.innerHTML = docLinkHtml;\n",
              "          element.appendChild(docLink);\n",
              "        }\n",
              "      </script>\n",
              "    </div>\n",
              "  </div>\n",
              "  "
            ]
          },
          "metadata": {},
          "execution_count": 33
        }
      ]
    },
    {
      "cell_type": "markdown",
      "source": [
        "######Checking for Null Values Again to Process Data\n",
        "\n",
        "######Found Out: Two Features have Some Null Values"
      ],
      "metadata": {
        "id": "0eKzhklDHiT3"
      }
    },
    {
      "cell_type": "code",
      "source": [
        "round(data.isnull().sum()/len(data.index), 2)*100"
      ],
      "metadata": {
        "colab": {
          "base_uri": "https://localhost:8080/"
        },
        "id": "gw4zjZtcT535",
        "outputId": "287e5a4a-6f2b-416d-86db-0e67571ca4e8"
      },
      "execution_count": 34,
      "outputs": [
        {
          "output_type": "execute_result",
          "data": {
            "text/plain": [
              "LoanNumber                                0.0\n",
              "NewCreditCustomer                         0.0\n",
              "Age                                       0.0\n",
              "Gender                                    0.0\n",
              "Amount                                    0.0\n",
              "Interest                                  0.0\n",
              "LoanDuration                              0.0\n",
              "UseOfLoan                                 0.0\n",
              "Education                                 0.0\n",
              "MaritalStatus                             0.0\n",
              "EmploymentStatus                          0.0\n",
              "EmploymentDurationCurrentEmployer         2.0\n",
              "IncomeTotal                               0.0\n",
              "ExistingLiabilities                       0.0\n",
              "LiabilitiesTotal                          0.0\n",
              "RefinanceLiabilities                      0.0\n",
              "Status                                    0.0\n",
              "Restructured                              0.0\n",
              "NoOfPreviousLoansBeforeLoan               0.0\n",
              "AmountOfPreviousLoansBeforeLoan           0.0\n",
              "PreviousRepaymentsBeforeLoan              0.0\n",
              "PreviousEarlyRepaymentsCountBeforeLoan    0.0\n",
              "PrincipalDebtServicingCost                0.0\n",
              "InterestAndPenaltyDebtServicingCost       0.0\n",
              "Target                                    0.0\n",
              "dtype: float64"
            ]
          },
          "metadata": {},
          "execution_count": 34
        }
      ]
    },
    {
      "cell_type": "markdown",
      "source": [
        "######To Fix Null Values for the EmploymentStatus; It is Better to go with Median"
      ],
      "metadata": {
        "id": "_w1_978FH5QD"
      }
    },
    {
      "cell_type": "code",
      "source": [
        "data['EmploymentStatus']"
      ],
      "metadata": {
        "colab": {
          "base_uri": "https://localhost:8080/"
        },
        "id": "g8WMHIz5UG6z",
        "outputId": "5d78dcfd-1d4b-4bb4-ba31-69e41d08424b"
      },
      "execution_count": 35,
      "outputs": [
        {
          "output_type": "execute_result",
          "data": {
            "text/plain": [
              "0        3.0\n",
              "1        3.0\n",
              "2        3.0\n",
              "3        NaN\n",
              "4        3.0\n",
              "        ... \n",
              "34717   -1.0\n",
              "34718   -1.0\n",
              "34719   -1.0\n",
              "34720   -1.0\n",
              "34721   -1.0\n",
              "Name: EmploymentStatus, Length: 34722, dtype: float64"
            ]
          },
          "metadata": {},
          "execution_count": 35
        }
      ]
    },
    {
      "cell_type": "code",
      "source": [
        "EmployStatusMedian = data['EmploymentStatus'].median()\n",
        "\n",
        "data['EmploymentStatus'] = data['EmploymentStatus'].fillna(EmployStatusMedian)"
      ],
      "metadata": {
        "id": "eyXd-1HdUoUR"
      },
      "execution_count": 36,
      "outputs": []
    },
    {
      "cell_type": "code",
      "source": [
        "data['EmploymentStatus'].value_counts(dropna = False)"
      ],
      "metadata": {
        "colab": {
          "base_uri": "https://localhost:8080/"
        },
        "id": "fylZE65LUoXf",
        "outputId": "d5e950da-d0d6-4b98-aad6-fce7f78944fe"
      },
      "execution_count": 37,
      "outputs": [
        {
          "output_type": "execute_result",
          "data": {
            "text/plain": [
              " 3.0    21886\n",
              "-1.0     7746\n",
              " 5.0     1730\n",
              " 6.0     1327\n",
              " 4.0     1098\n",
              " 2.0      927\n",
              " 0.0        8\n",
              "Name: EmploymentStatus, dtype: int64"
            ]
          },
          "metadata": {},
          "execution_count": 37
        }
      ]
    },
    {
      "cell_type": "markdown",
      "source": [
        "######To Fix EmploymentDurationCurrentEmployer's Null Values; Better to go by Initializing Null Values with Other Category"
      ],
      "metadata": {
        "id": "UhmleR05IKcm"
      }
    },
    {
      "cell_type": "code",
      "source": [
        "data['EmploymentDurationCurrentEmployer'].isnull().sum()"
      ],
      "metadata": {
        "colab": {
          "base_uri": "https://localhost:8080/"
        },
        "id": "d-ue50lTWDrB",
        "outputId": "5362d437-f18d-46d6-ab90-88e962981227"
      },
      "execution_count": 38,
      "outputs": [
        {
          "output_type": "execute_result",
          "data": {
            "text/plain": [
              "617"
            ]
          },
          "metadata": {},
          "execution_count": 38
        }
      ]
    },
    {
      "cell_type": "code",
      "source": [
        "data['EmploymentDurationCurrentEmployer'].value_counts(dropna = False)"
      ],
      "metadata": {
        "colab": {
          "base_uri": "https://localhost:8080/"
        },
        "id": "TvdE2pKPAb3X",
        "outputId": "dcf3fdd0-9a01-4f77-996b-7c3edae6020c"
      },
      "execution_count": 39,
      "outputs": [
        {
          "output_type": "execute_result",
          "data": {
            "text/plain": [
              "MoreThan5Years    13041\n",
              "UpTo1Year          6155\n",
              "UpTo5Years         4271\n",
              "UpTo2Years         4049\n",
              "UpTo3Years         3367\n",
              "UpTo4Years         2349\n",
              "NaN                 617\n",
              "TrialPeriod         467\n",
              "Retiree             237\n",
              "Other               169\n",
              "Name: EmploymentDurationCurrentEmployer, dtype: int64"
            ]
          },
          "metadata": {},
          "execution_count": 39
        }
      ]
    },
    {
      "cell_type": "code",
      "source": [
        "data.EmploymentDurationCurrentEmployer[data.EmploymentDurationCurrentEmployer.isnull()] = 'Other'\n",
        "\n",
        "data['EmploymentDurationCurrentEmployer'].value_counts(dropna = False)"
      ],
      "metadata": {
        "colab": {
          "base_uri": "https://localhost:8080/"
        },
        "id": "bapoezoYA14r",
        "outputId": "841f732a-05ec-4082-e0f9-0d44d93e82b6"
      },
      "execution_count": 40,
      "outputs": [
        {
          "output_type": "stream",
          "name": "stderr",
          "text": [
            "<ipython-input-40-a628ea7203ab>:1: SettingWithCopyWarning: \n",
            "A value is trying to be set on a copy of a slice from a DataFrame\n",
            "\n",
            "See the caveats in the documentation: https://pandas.pydata.org/pandas-docs/stable/user_guide/indexing.html#returning-a-view-versus-a-copy\n",
            "  data.EmploymentDurationCurrentEmployer[data.EmploymentDurationCurrentEmployer.isnull()] = 'Other'\n"
          ]
        },
        {
          "output_type": "execute_result",
          "data": {
            "text/plain": [
              "MoreThan5Years    13041\n",
              "UpTo1Year          6155\n",
              "UpTo5Years         4271\n",
              "UpTo2Years         4049\n",
              "UpTo3Years         3367\n",
              "UpTo4Years         2349\n",
              "Other               786\n",
              "TrialPeriod         467\n",
              "Retiree             237\n",
              "Name: EmploymentDurationCurrentEmployer, dtype: int64"
            ]
          },
          "metadata": {},
          "execution_count": 40
        }
      ]
    },
    {
      "cell_type": "code",
      "source": [
        "data['Status'].value_counts()"
      ],
      "metadata": {
        "colab": {
          "base_uri": "https://localhost:8080/"
        },
        "id": "oOlWCc93AwZK",
        "outputId": "0fafdd8d-5077-409d-9504-cd2f9f1ffa89"
      },
      "execution_count": 41,
      "outputs": [
        {
          "output_type": "execute_result",
          "data": {
            "text/plain": [
              "Late       16207\n",
              "Repaid     13948\n",
              "Current     4567\n",
              "Name: Status, dtype: int64"
            ]
          },
          "metadata": {},
          "execution_count": 41
        }
      ]
    },
    {
      "cell_type": "markdown",
      "source": [
        "######Exploratory Data Analysis"
      ],
      "metadata": {
        "id": "DnApbrmtI2G1"
      }
    },
    {
      "cell_type": "code",
      "source": [
        "# Count for Target Feature\n",
        "\n",
        "plt.style.use('ggplot')\n",
        "data['Target'].value_counts().plot.bar(title = 'Target', rot = 0)\n",
        "display(data['Target'].value_counts())"
      ],
      "metadata": {
        "colab": {
          "base_uri": "https://localhost:8080/",
          "height": 334
        },
        "id": "U49j_aurBecK",
        "outputId": "0003192b-52f4-4416-9c87-4704c477e93d"
      },
      "execution_count": 42,
      "outputs": [
        {
          "output_type": "display_data",
          "data": {
            "text/plain": [
              "0    19020\n",
              "1    15702\n",
              "Name: Target, dtype: int64"
            ]
          },
          "metadata": {}
        },
        {
          "output_type": "display_data",
          "data": {
            "text/plain": [
              "<Figure size 432x288 with 1 Axes>"
            ],
            "image/png": "[encoded data removed]"
          },
          "metadata": {}
        }
      ]
    },
    {
      "cell_type": "code",
      "source": [
        "# Count for Categorical Features\n",
        "\n",
        "fig2, ax2 = plt.subplots(1, 3)\n",
        "data['Gender'].value_counts(normalize = True).plot(figsize = (22, 5), ax = ax2[0], kind = 'bar', title = 'Gender', rot = 0)\n",
        "data['Education'].value_counts(normalize = True).plot(ax = ax2[1], kind = 'bar', title = 'Education', rot = 0)\n",
        "data['MaritalStatus'].value_counts(normalize = True).plot(ax = ax2[2], kind = 'bar', title = 'MartialStatus', rot = 0)\n",
        "fig2.tight_layout()"
      ],
      "metadata": {
        "colab": {
          "base_uri": "https://localhost:8080/",
          "height": 369
        },
        "id": "H9_n5omeTa39",
        "outputId": "cd1a2f19-10de-454b-d54d-bb26cd1830fb"
      },
      "execution_count": 43,
      "outputs": [
        {
          "output_type": "display_data",
          "data": {
            "text/plain": [
              "<Figure size 1584x360 with 3 Axes>"
            ],
            "image/png": "[encoded data removed]"
          },
          "metadata": {}
        }
      ]
    },
    {
      "cell_type": "code",
      "source": [
        "fig2, ax2 = plt.subplots(1, 3)\n",
        "data['EmploymentDurationCurrentEmployer'].value_counts(normalize = True).plot(figsize = (30, 5), ax = ax2[0], kind = 'bar', title = 'EmploymentDurationCurrentEmployer', rot = 0)\n",
        "data['EmploymentStatus'].value_counts(normalize = True).plot(ax = ax2[1], kind = 'bar', title = 'EmploymentStatus', rot = 0)\n",
        "data['NewCreditCustomer'].value_counts(normalize = True).plot(ax = ax2[2], kind = 'bar', title = 'NewCreditCustomer', rot = 0)\n",
        "fig2.tight_layout()"
      ],
      "metadata": {
        "colab": {
          "base_uri": "https://localhost:8080/",
          "height": 311
        },
        "id": "c_L8m0GMUFB9",
        "outputId": "fe5d404e-4264-4515-a62c-a19b85fba572"
      },
      "execution_count": 44,
      "outputs": [
        {
          "output_type": "display_data",
          "data": {
            "text/plain": [
              "<Figure size 2160x360 with 3 Axes>"
            ],
            "image/png": "[encoded data removed]"
          },
          "metadata": {}
        }
      ]
    },
    {
      "cell_type": "code",
      "source": [
        "data.shape # While Exploring the Data We got 25 Useful Features"
      ],
      "metadata": {
        "colab": {
          "base_uri": "https://localhost:8080/"
        },
        "id": "sc7z3VHqXzBe",
        "outputId": "a5fab8b1-283f-4383-8a9a-d5b29aa5dc66"
      },
      "execution_count": 45,
      "outputs": [
        {
          "output_type": "execute_result",
          "data": {
            "text/plain": [
              "(34722, 25)"
            ]
          },
          "metadata": {},
          "execution_count": 45
        }
      ]
    },
    {
      "cell_type": "code",
      "source": [
        "# Gender vs Status\n",
        "\n",
        "sns.countplot(y = 'Gender', hue = 'Status', data = data)"
      ],
      "metadata": {
        "colab": {
          "base_uri": "https://localhost:8080/",
          "height": 299
        },
        "id": "WvAImwMuX1Jq",
        "outputId": "50fb3e9b-9ee5-40a5-f7d3-64ac4466dd17"
      },
      "execution_count": 46,
      "outputs": [
        {
          "output_type": "execute_result",
          "data": {
            "text/plain": [
              "<AxesSubplot:xlabel='count', ylabel='Gender'>"
            ]
          },
          "metadata": {},
          "execution_count": 46
        },
        {
          "output_type": "display_data",
          "data": {
            "text/plain": [
              "<Figure size 432x288 with 1 Axes>"
            ],
            "image/png": "[encoded data removed]"
          },
          "metadata": {}
        }
      ]
    },
    {
      "cell_type": "code",
      "source": [
        "# Education vs Status\n",
        "\n",
        "sns.countplot(y = 'Education', hue = 'Status', data = data)"
      ],
      "metadata": {
        "colab": {
          "base_uri": "https://localhost:8080/",
          "height": 299
        },
        "id": "DjUVAQwdlAAN",
        "outputId": "a25e4d58-3240-4421-af74-5d9800cb44fe"
      },
      "execution_count": 47,
      "outputs": [
        {
          "output_type": "execute_result",
          "data": {
            "text/plain": [
              "<AxesSubplot:xlabel='count', ylabel='Education'>"
            ]
          },
          "metadata": {},
          "execution_count": 47
        },
        {
          "output_type": "display_data",
          "data": {
            "text/plain": [
              "<Figure size 432x288 with 1 Axes>"
            ],
            "image/png": "[encoded data removed]"
          },
          "metadata": {}
        }
      ]
    },
    {
      "cell_type": "code",
      "source": [
        "# NewCreditCustomer vs Status\n",
        "\n",
        "sns.countplot(y = 'NewCreditCustomer', hue = 'Status', data = data)"
      ],
      "metadata": {
        "colab": {
          "base_uri": "https://localhost:8080/",
          "height": 299
        },
        "id": "uwh7kpDBlSmm",
        "outputId": "e49a906e-29e2-457f-82f8-ba9d26972da2"
      },
      "execution_count": 48,
      "outputs": [
        {
          "output_type": "execute_result",
          "data": {
            "text/plain": [
              "<AxesSubplot:xlabel='count', ylabel='NewCreditCustomer'>"
            ]
          },
          "metadata": {},
          "execution_count": 48
        },
        {
          "output_type": "display_data",
          "data": {
            "text/plain": [
              "<Figure size 432x288 with 1 Axes>"
            ],
            "image/png": "[encoded data removed]"
          },
          "metadata": {}
        }
      ]
    },
    {
      "cell_type": "code",
      "source": [
        "# EmploymentStatus vs Status\n",
        "\n",
        "sns.countplot(y = 'EmploymentStatus', hue = 'Status', data = data)"
      ],
      "metadata": {
        "colab": {
          "base_uri": "https://localhost:8080/",
          "height": 299
        },
        "id": "48jOI8SSld4b",
        "outputId": "af582758-f4a2-44bf-dfab-0f35e40989b5"
      },
      "execution_count": 49,
      "outputs": [
        {
          "output_type": "execute_result",
          "data": {
            "text/plain": [
              "<AxesSubplot:xlabel='count', ylabel='EmploymentStatus'>"
            ]
          },
          "metadata": {},
          "execution_count": 49
        },
        {
          "output_type": "display_data",
          "data": {
            "text/plain": [
              "<Figure size 432x288 with 1 Axes>"
            ],
            "image/png": "[encoded data removed]"
          },
          "metadata": {}
        }
      ]
    },
    {
      "cell_type": "code",
      "source": [
        "# MaritialStatus vs Status\n",
        "\n",
        "sns.countplot(y = 'MaritalStatus', hue = 'Status', data = data)"
      ],
      "metadata": {
        "colab": {
          "base_uri": "https://localhost:8080/",
          "height": 299
        },
        "id": "N2pYRTAWlnup",
        "outputId": "274dc14a-8a74-4476-917e-5db91593d39c"
      },
      "execution_count": 50,
      "outputs": [
        {
          "output_type": "execute_result",
          "data": {
            "text/plain": [
              "<AxesSubplot:xlabel='count', ylabel='MaritalStatus'>"
            ]
          },
          "metadata": {},
          "execution_count": 50
        },
        {
          "output_type": "display_data",
          "data": {
            "text/plain": [
              "<Figure size 432x288 with 1 Axes>"
            ],
            "image/png": "[encoded data removed]"
          },
          "metadata": {}
        }
      ]
    },
    {
      "cell_type": "code",
      "source": [
        "data.info()"
      ],
      "metadata": {
        "colab": {
          "base_uri": "https://localhost:8080/"
        },
        "id": "32-jT7ynQe9A",
        "outputId": "54288fb5-89b9-4ea7-b930-907af40c727f"
      },
      "execution_count": 51,
      "outputs": [
        {
          "output_type": "stream",
          "name": "stdout",
          "text": [
            "<class 'pandas.core.frame.DataFrame'>\n",
            "RangeIndex: 34722 entries, 0 to 34721\n",
            "Data columns (total 25 columns):\n",
            " #   Column                                  Non-Null Count  Dtype  \n",
            "---  ------                                  --------------  -----  \n",
            " 0   LoanNumber                              34722 non-null  int64  \n",
            " 1   NewCreditCustomer                       34722 non-null  bool   \n",
            " 2   Age                                     34722 non-null  int64  \n",
            " 3   Gender                                  34677 non-null  float64\n",
            " 4   Amount                                  34722 non-null  float64\n",
            " 5   Interest                                34722 non-null  float64\n",
            " 6   LoanDuration                            34722 non-null  int64  \n",
            " 7   UseOfLoan                               34722 non-null  int64  \n",
            " 8   Education                               34677 non-null  float64\n",
            " 9   MaritalStatus                           34677 non-null  float64\n",
            " 10  EmploymentStatus                        34722 non-null  float64\n",
            " 11  EmploymentDurationCurrentEmployer       34722 non-null  object \n",
            " 12  IncomeTotal                             34722 non-null  float64\n",
            " 13  ExistingLiabilities                     34722 non-null  int64  \n",
            " 14  LiabilitiesTotal                        34722 non-null  float64\n",
            " 15  RefinanceLiabilities                    34722 non-null  int64  \n",
            " 16  Status                                  34722 non-null  object \n",
            " 17  Restructured                            34722 non-null  bool   \n",
            " 18  NoOfPreviousLoansBeforeLoan             34722 non-null  int64  \n",
            " 19  AmountOfPreviousLoansBeforeLoan         34722 non-null  float64\n",
            " 20  PreviousRepaymentsBeforeLoan            34722 non-null  float64\n",
            " 21  PreviousEarlyRepaymentsCountBeforeLoan  34722 non-null  int64  \n",
            " 22  PrincipalDebtServicingCost              34722 non-null  float64\n",
            " 23  InterestAndPenaltyDebtServicingCost     34722 non-null  float64\n",
            " 24  Target                                  34722 non-null  int64  \n",
            "dtypes: bool(2), float64(12), int64(9), object(2)\n",
            "memory usage: 6.2+ MB\n"
          ]
        }
      ]
    },
    {
      "cell_type": "markdown",
      "source": [
        "######Encoding the Categorical Features"
      ],
      "metadata": {
        "id": "PjECbv-zKSHU"
      }
    },
    {
      "cell_type": "code",
      "source": [
        "from sklearn import preprocessing\n",
        "from sklearn.preprocessing import LabelEncoder\n",
        "cat = ['NewCreditCustomer', 'Status', 'Restructured', 'EmploymentDurationCurrentEmployer']\n",
        "for var in cat:\n",
        "  le = preprocessing.LabelEncoder()\n",
        "  data[var] = le.fit_transform(data[var].astype('str'))"
      ],
      "metadata": {
        "id": "q4_eyiErlxbu"
      },
      "execution_count": 52,
      "outputs": []
    },
    {
      "cell_type": "code",
      "source": [
        "data.info()"
      ],
      "metadata": {
        "colab": {
          "base_uri": "https://localhost:8080/"
        },
        "id": "NJD1JPfTmlaj",
        "outputId": "a08de039-d9b1-4d54-f608-833f07c23534"
      },
      "execution_count": 53,
      "outputs": [
        {
          "output_type": "stream",
          "name": "stdout",
          "text": [
            "<class 'pandas.core.frame.DataFrame'>\n",
            "RangeIndex: 34722 entries, 0 to 34721\n",
            "Data columns (total 25 columns):\n",
            " #   Column                                  Non-Null Count  Dtype  \n",
            "---  ------                                  --------------  -----  \n",
            " 0   LoanNumber                              34722 non-null  int64  \n",
            " 1   NewCreditCustomer                       34722 non-null  int64  \n",
            " 2   Age                                     34722 non-null  int64  \n",
            " 3   Gender                                  34677 non-null  float64\n",
            " 4   Amount                                  34722 non-null  float64\n",
            " 5   Interest                                34722 non-null  float64\n",
            " 6   LoanDuration                            34722 non-null  int64  \n",
            " 7   UseOfLoan                               34722 non-null  int64  \n",
            " 8   Education                               34677 non-null  float64\n",
            " 9   MaritalStatus                           34677 non-null  float64\n",
            " 10  EmploymentStatus                        34722 non-null  float64\n",
            " 11  EmploymentDurationCurrentEmployer       34722 non-null  int64  \n",
            " 12  IncomeTotal                             34722 non-null  float64\n",
            " 13  ExistingLiabilities                     34722 non-null  int64  \n",
            " 14  LiabilitiesTotal                        34722 non-null  float64\n",
            " 15  RefinanceLiabilities                    34722 non-null  int64  \n",
            " 16  Status                                  34722 non-null  int64  \n",
            " 17  Restructured                            34722 non-null  int64  \n",
            " 18  NoOfPreviousLoansBeforeLoan             34722 non-null  int64  \n",
            " 19  AmountOfPreviousLoansBeforeLoan         34722 non-null  float64\n",
            " 20  PreviousRepaymentsBeforeLoan            34722 non-null  float64\n",
            " 21  PreviousEarlyRepaymentsCountBeforeLoan  34722 non-null  int64  \n",
            " 22  PrincipalDebtServicingCost              34722 non-null  float64\n",
            " 23  InterestAndPenaltyDebtServicingCost     34722 non-null  float64\n",
            " 24  Target                                  34722 non-null  int64  \n",
            "dtypes: float64(12), int64(13)\n",
            "memory usage: 6.6 MB\n"
          ]
        }
      ]
    },
    {
      "cell_type": "code",
      "source": [
        "data['NewCreditCustomer']"
      ],
      "metadata": {
        "colab": {
          "base_uri": "https://localhost:8080/"
        },
        "id": "vw4NmDgrQ8Bh",
        "outputId": "d6ee7ebf-ed10-4dac-d3db-36536841779a"
      },
      "execution_count": 54,
      "outputs": [
        {
          "output_type": "execute_result",
          "data": {
            "text/plain": [
              "0        1\n",
              "1        0\n",
              "2        1\n",
              "3        1\n",
              "4        1\n",
              "        ..\n",
              "34717    1\n",
              "34718    1\n",
              "34719    1\n",
              "34720    1\n",
              "34721    1\n",
              "Name: NewCreditCustomer, Length: 34722, dtype: int64"
            ]
          },
          "metadata": {},
          "execution_count": 54
        }
      ]
    },
    {
      "cell_type": "code",
      "source": [
        "data['Restructured']"
      ],
      "metadata": {
        "colab": {
          "base_uri": "https://localhost:8080/"
        },
        "id": "OJI4hDeXQ8E6",
        "outputId": "83c23e87-b7cc-4c6e-b9e0-c0bee26abb9a"
      },
      "execution_count": 55,
      "outputs": [
        {
          "output_type": "execute_result",
          "data": {
            "text/plain": [
              "0        0\n",
              "1        0\n",
              "2        1\n",
              "3        0\n",
              "4        0\n",
              "        ..\n",
              "34717    0\n",
              "34718    0\n",
              "34719    0\n",
              "34720    0\n",
              "34721    0\n",
              "Name: Restructured, Length: 34722, dtype: int64"
            ]
          },
          "metadata": {},
          "execution_count": 55
        }
      ]
    },
    {
      "cell_type": "code",
      "source": [
        "data['EmploymentDurationCurrentEmployer']"
      ],
      "metadata": {
        "colab": {
          "base_uri": "https://localhost:8080/"
        },
        "id": "8ENecYNJQ8Ro",
        "outputId": "e22fd720-25c0-40fd-b3c6-452f7343410f"
      },
      "execution_count": 56,
      "outputs": [
        {
          "output_type": "execute_result",
          "data": {
            "text/plain": [
              "0        6\n",
              "1        0\n",
              "2        7\n",
              "3        5\n",
              "4        5\n",
              "        ..\n",
              "34717    8\n",
              "34718    0\n",
              "34719    8\n",
              "34720    2\n",
              "34721    8\n",
              "Name: EmploymentDurationCurrentEmployer, Length: 34722, dtype: int64"
            ]
          },
          "metadata": {},
          "execution_count": 56
        }
      ]
    },
    {
      "cell_type": "code",
      "source": [
        "data['EmploymentDurationCurrentEmployer'].value_counts()\n",
        "data['EmploymentDurationCurrentEmployer'].isnull().sum()"
      ],
      "metadata": {
        "colab": {
          "base_uri": "https://localhost:8080/"
        },
        "id": "857vYJotRKp8",
        "outputId": "cd77c9e8-cdad-4471-ea9b-bc4e8df1adc3"
      },
      "execution_count": 57,
      "outputs": [
        {
          "output_type": "execute_result",
          "data": {
            "text/plain": [
              "0"
            ]
          },
          "metadata": {},
          "execution_count": 57
        }
      ]
    },
    {
      "cell_type": "code",
      "source": [
        "data['Status']"
      ],
      "metadata": {
        "colab": {
          "base_uri": "https://localhost:8080/"
        },
        "id": "qEvVIDJyRKtV",
        "outputId": "7ab105ef-12f6-4b14-fa08-c962bf8982a1"
      },
      "execution_count": 58,
      "outputs": [
        {
          "output_type": "execute_result",
          "data": {
            "text/plain": [
              "0        2\n",
              "1        2\n",
              "2        1\n",
              "3        2\n",
              "4        2\n",
              "        ..\n",
              "34717    0\n",
              "34718    1\n",
              "34719    2\n",
              "34720    1\n",
              "34721    1\n",
              "Name: Status, Length: 34722, dtype: int64"
            ]
          },
          "metadata": {},
          "execution_count": 58
        }
      ]
    },
    {
      "cell_type": "code",
      "source": [
        "data['Status'].value_counts() "
      ],
      "metadata": {
        "colab": {
          "base_uri": "https://localhost:8080/"
        },
        "id": "82anTmQnRSOd",
        "outputId": "c1c7acb6-8d45-46f0-cbf0-9d7e53c1f144"
      },
      "execution_count": 59,
      "outputs": [
        {
          "output_type": "execute_result",
          "data": {
            "text/plain": [
              "1    16207\n",
              "2    13948\n",
              "0     4567\n",
              "Name: Status, dtype: int64"
            ]
          },
          "metadata": {},
          "execution_count": 59
        }
      ]
    },
    {
      "cell_type": "markdown",
      "source": [
        "######Finalizing Independant Features X to Predict Our Respective Y"
      ],
      "metadata": {
        "id": "Yeteo6QnKwn6"
      }
    },
    {
      "cell_type": "code",
      "source": [
        "independant_features = ['NewCreditCustomer', 'Gender', 'Education', 'EmploymentStatus', 'Restructured']\n",
        "\n",
        "for feature in independant_features:\n",
        "\n",
        "  print(data[feature])\n",
        "  print(data[feature].value_counts())"
      ],
      "metadata": {
        "id": "CBeFCBYAoEFr",
        "colab": {
          "base_uri": "https://localhost:8080/"
        },
        "outputId": "835c679d-853c-4a15-c371-efe9bef7dc64"
      },
      "execution_count": 60,
      "outputs": [
        {
          "output_type": "stream",
          "name": "stdout",
          "text": [
            "0        1\n",
            "1        0\n",
            "2        1\n",
            "3        1\n",
            "4        1\n",
            "        ..\n",
            "34717    1\n",
            "34718    1\n",
            "34719    1\n",
            "34720    1\n",
            "34721    1\n",
            "Name: NewCreditCustomer, Length: 34722, dtype: int64\n",
            "1    20411\n",
            "0    14311\n",
            "Name: NewCreditCustomer, dtype: int64\n",
            "0        1.0\n",
            "1        1.0\n",
            "2        1.0\n",
            "3        1.0\n",
            "4        1.0\n",
            "        ... \n",
            "34717    0.0\n",
            "34718    0.0\n",
            "34719    0.0\n",
            "34720    0.0\n",
            "34721    0.0\n",
            "Name: Gender, Length: 34722, dtype: float64\n",
            "0.0    19798\n",
            "1.0    12418\n",
            "2.0     2461\n",
            "Name: Gender, dtype: int64\n",
            "0        3.0\n",
            "1        5.0\n",
            "2        4.0\n",
            "3        2.0\n",
            "4        4.0\n",
            "        ... \n",
            "34717    5.0\n",
            "34718    4.0\n",
            "34719    4.0\n",
            "34720    3.0\n",
            "34721    4.0\n",
            "Name: Education, Length: 34722, dtype: float64\n",
            " 4.0    13555\n",
            " 5.0     9439\n",
            " 3.0     6827\n",
            " 2.0     3866\n",
            " 1.0      980\n",
            " 0.0        8\n",
            "-1.0        2\n",
            "Name: Education, dtype: int64\n",
            "0        3.0\n",
            "1        3.0\n",
            "2        3.0\n",
            "3        3.0\n",
            "4        3.0\n",
            "        ... \n",
            "34717   -1.0\n",
            "34718   -1.0\n",
            "34719   -1.0\n",
            "34720   -1.0\n",
            "34721   -1.0\n",
            "Name: EmploymentStatus, Length: 34722, dtype: float64\n",
            " 3.0    21886\n",
            "-1.0     7746\n",
            " 5.0     1730\n",
            " 6.0     1327\n",
            " 4.0     1098\n",
            " 2.0      927\n",
            " 0.0        8\n",
            "Name: EmploymentStatus, dtype: int64\n",
            "0        0\n",
            "1        0\n",
            "2        1\n",
            "3        0\n",
            "4        0\n",
            "        ..\n",
            "34717    0\n",
            "34718    0\n",
            "34719    0\n",
            "34720    0\n",
            "34721    0\n",
            "Name: Restructured, Length: 34722, dtype: int64\n",
            "0    25176\n",
            "1     9546\n",
            "Name: Restructured, dtype: int64\n"
          ]
        }
      ]
    },
    {
      "cell_type": "code",
      "source": [
        "round(data.isnull().sum()/len(data.index), 2)*100"
      ],
      "metadata": {
        "colab": {
          "base_uri": "https://localhost:8080/"
        },
        "id": "T39tpi9tSGEf",
        "outputId": "f5602be8-41e2-4bf5-cfda-1b722ce0a5e6"
      },
      "execution_count": 61,
      "outputs": [
        {
          "output_type": "execute_result",
          "data": {
            "text/plain": [
              "LoanNumber                                0.0\n",
              "NewCreditCustomer                         0.0\n",
              "Age                                       0.0\n",
              "Gender                                    0.0\n",
              "Amount                                    0.0\n",
              "Interest                                  0.0\n",
              "LoanDuration                              0.0\n",
              "UseOfLoan                                 0.0\n",
              "Education                                 0.0\n",
              "MaritalStatus                             0.0\n",
              "EmploymentStatus                          0.0\n",
              "EmploymentDurationCurrentEmployer         0.0\n",
              "IncomeTotal                               0.0\n",
              "ExistingLiabilities                       0.0\n",
              "LiabilitiesTotal                          0.0\n",
              "RefinanceLiabilities                      0.0\n",
              "Status                                    0.0\n",
              "Restructured                              0.0\n",
              "NoOfPreviousLoansBeforeLoan               0.0\n",
              "AmountOfPreviousLoansBeforeLoan           0.0\n",
              "PreviousRepaymentsBeforeLoan              0.0\n",
              "PreviousEarlyRepaymentsCountBeforeLoan    0.0\n",
              "PrincipalDebtServicingCost                0.0\n",
              "InterestAndPenaltyDebtServicingCost       0.0\n",
              "Target                                    0.0\n",
              "dtype: float64"
            ]
          },
          "metadata": {},
          "execution_count": 61
        }
      ]
    },
    {
      "cell_type": "code",
      "source": [
        "data.to_csv('final_bondora.csv')\n",
        "\n",
        "data.head(5)\n",
        "\n",
        "data = data.dropna()"
      ],
      "metadata": {
        "id": "SBWXHIeBBh7_"
      },
      "execution_count": 62,
      "outputs": []
    },
    {
      "cell_type": "markdown",
      "source": [
        "Independant Features to Predict Risk\n",
        "\n",
        "1. NewCreditCustomer - 1\n",
        "2. Gender - 3\n",
        "3. Education - 8\n",
        "4. EmploymentStatus - 10\n",
        "5. Restructured - 17"
      ],
      "metadata": {
        "id": "DddypT7CBiyG"
      }
    },
    {
      "cell_type": "code",
      "source": [
        "columns = data.columns\n",
        "columns.get_loc('Target')"
      ],
      "metadata": {
        "colab": {
          "base_uri": "https://localhost:8080/"
        },
        "id": "3Rq4QvGLmMj0",
        "outputId": "4b1fccf5-c186-4ffa-8c29-ed7bb0ff2298"
      },
      "execution_count": 63,
      "outputs": [
        {
          "output_type": "execute_result",
          "data": {
            "text/plain": [
              "24"
            ]
          },
          "metadata": {},
          "execution_count": 63
        }
      ]
    },
    {
      "cell_type": "code",
      "source": [
        "X = data.iloc[:, np.r_ [1, 3, 8, 10, 17]].values.astype('int')\n",
        "Y = data.iloc[:, 24].values"
      ],
      "metadata": {
        "id": "GTfuXXQ9mMvW"
      },
      "execution_count": 64,
      "outputs": []
    },
    {
      "cell_type": "code",
      "source": [
        "X"
      ],
      "metadata": {
        "colab": {
          "base_uri": "https://localhost:8080/"
        },
        "id": "oRtt4A1rmMx6",
        "outputId": "30d01407-b277-4dfd-d6f7-6a6bc51e1880"
      },
      "execution_count": 65,
      "outputs": [
        {
          "output_type": "execute_result",
          "data": {
            "text/plain": [
              "array([[ 1,  1,  3,  3,  0],\n",
              "       [ 0,  1,  5,  3,  0],\n",
              "       [ 1,  1,  4,  3,  1],\n",
              "       ...,\n",
              "       [ 1,  0,  4, -1,  0],\n",
              "       [ 1,  0,  3, -1,  0],\n",
              "       [ 1,  0,  4, -1,  0]])"
            ]
          },
          "metadata": {},
          "execution_count": 65
        }
      ]
    },
    {
      "cell_type": "code",
      "source": [
        "Y"
      ],
      "metadata": {
        "colab": {
          "base_uri": "https://localhost:8080/"
        },
        "id": "xlz7fAOtmMzr",
        "outputId": "ff08f0e0-7c5b-48bd-caa7-a998459a532b"
      },
      "execution_count": 66,
      "outputs": [
        {
          "output_type": "execute_result",
          "data": {
            "text/plain": [
              "array([1, 1, 0, ..., 1, 0, 0])"
            ]
          },
          "metadata": {},
          "execution_count": 66
        }
      ]
    },
    {
      "cell_type": "code",
      "source": [
        "data = data[['NewCreditCustomer', 'Gender', 'Education', 'EmploymentStatus', 'Restructured',\n",
        "             'Amount', 'Interest', 'LoanDuration', 'IncomeTotal', 'LiabilitiesTotal', 'Target']]\n",
        "data.head()\n",
        "data.reset_index(inplace = True)"
      ],
      "metadata": {
        "id": "15YtdZ3hLsSb"
      },
      "execution_count": 67,
      "outputs": []
    },
    {
      "cell_type": "markdown",
      "source": [
        "###### Splitting Data into Train and Test Set"
      ],
      "metadata": {
        "id": "wxC79MPQoBR5"
      }
    },
    {
      "cell_type": "code",
      "source": [
        "from sklearn.model_selection import train_test_split\n",
        "X_train, X_test, Y_train, Y_test = train_test_split(X, Y, test_size = 0.3, random_state = 0)"
      ],
      "metadata": {
        "id": "rzUZAUvemM3G"
      },
      "execution_count": 68,
      "outputs": []
    },
    {
      "cell_type": "code",
      "source": [
        "X_train"
      ],
      "metadata": {
        "colab": {
          "base_uri": "https://localhost:8080/"
        },
        "id": "Yix6GErZoXtz",
        "outputId": "7ae870fd-375f-4be2-8232-0623e776a18d"
      },
      "execution_count": 69,
      "outputs": [
        {
          "output_type": "execute_result",
          "data": {
            "text/plain": [
              "array([[1, 0, 3, 2, 0],\n",
              "       [1, 2, 4, 3, 0],\n",
              "       [0, 1, 5, 3, 0],\n",
              "       ...,\n",
              "       [1, 0, 4, 3, 0],\n",
              "       [0, 0, 3, 3, 0],\n",
              "       [0, 0, 4, 3, 0]])"
            ]
          },
          "metadata": {},
          "execution_count": 69
        }
      ]
    },
    {
      "cell_type": "code",
      "source": [
        "Y_train"
      ],
      "metadata": {
        "colab": {
          "base_uri": "https://localhost:8080/"
        },
        "id": "7SPYCrvGoaa-",
        "outputId": "6480a5c2-bca1-4b65-923e-a00a3be0c947"
      },
      "execution_count": 70,
      "outputs": [
        {
          "output_type": "execute_result",
          "data": {
            "text/plain": [
              "array([1, 0, 0, ..., 1, 1, 1])"
            ]
          },
          "metadata": {},
          "execution_count": 70
        }
      ]
    },
    {
      "cell_type": "markdown",
      "source": [
        "###### Model Building"
      ],
      "metadata": {
        "id": "z0QJQUvRk8EV"
      }
    },
    {
      "cell_type": "markdown",
      "source": [
        "###### 1. Gradient Boosting Classifier"
      ],
      "metadata": {
        "id": "h70Uzp4IlC4-"
      }
    },
    {
      "cell_type": "code",
      "source": [
        "from sklearn.metrics import accuracy_score\n",
        "from sklearn import metrics\n",
        "from sklearn.ensemble import GradientBoostingClassifier\n",
        "\n",
        "lr_list = [0.05, 0.075, 0.1, 0.25, 0.5, 0.75, 1]\n",
        "\n",
        "for learning_rate in lr_list:\n",
        "  gb_clf = GradientBoostingClassifier(n_estimators = 20, learning_rate = learning_rate, max_features = 2, max_depth = 2, random_state = 0)\n",
        "  gb_clf.fit(X_train, Y_train)\n",
        "\n",
        "  print(\"Learning Rate: \", learning_rate)\n",
        "  print(\"Accuracy score (training): {0:.3f}\".format(gb_clf.score(X_train, Y_train)))\n",
        "  print(\"Accuracy score (validation): {0:.3f}\".format(gb_clf.score(X_test, Y_test)))\n"
      ],
      "metadata": {
        "id": "ffSDTHBHB1vW",
        "colab": {
          "base_uri": "https://localhost:8080/"
        },
        "outputId": "ec68ab53-ba77-4993-a522-d834dc8e57a9"
      },
      "execution_count": 71,
      "outputs": [
        {
          "output_type": "stream",
          "name": "stdout",
          "text": [
            "Learning Rate:  0.05\n",
            "Accuracy score (training): 0.606\n",
            "Accuracy score (validation): 0.615\n",
            "Learning Rate:  0.075\n",
            "Accuracy score (training): 0.606\n",
            "Accuracy score (validation): 0.615\n",
            "Learning Rate:  0.1\n",
            "Accuracy score (training): 0.606\n",
            "Accuracy score (validation): 0.615\n",
            "Learning Rate:  0.25\n",
            "Accuracy score (training): 0.619\n",
            "Accuracy score (validation): 0.623\n",
            "Learning Rate:  0.5\n",
            "Accuracy score (training): 0.621\n",
            "Accuracy score (validation): 0.622\n",
            "Learning Rate:  0.75\n",
            "Accuracy score (training): 0.623\n",
            "Accuracy score (validation): 0.623\n",
            "Learning Rate:  1\n",
            "Accuracy score (training): 0.622\n",
            "Accuracy score (validation): 0.622\n"
          ]
        }
      ]
    },
    {
      "cell_type": "code",
      "source": [
        "gb_clf2 = GradientBoostingClassifier(n_estimators=20, learning_rate=0.5, max_features=2, max_depth=2, random_state=0)\n",
        "gb_clf2.fit(X_train, Y_train)\n",
        "predictions = gb_clf2.predict(X_test)\n"
      ],
      "metadata": {
        "id": "uMqHQqHbnvIm"
      },
      "execution_count": 72,
      "outputs": []
    },
    {
      "cell_type": "code",
      "source": [
        "print('The accuracy of the Gradient Boosting Classifier is: ', metrics.accuracy_score(predictions, Y_test))"
      ],
      "metadata": {
        "id": "iy6-wLkWlbWD",
        "colab": {
          "base_uri": "https://localhost:8080/"
        },
        "outputId": "31b2cf7c-e0ca-4f8f-aa69-30142659288d"
      },
      "execution_count": 73,
      "outputs": [
        {
          "output_type": "stream",
          "name": "stdout",
          "text": [
            "The accuracy of the Gradient Boosting Classifier is:  0.6215878508266052\n"
          ]
        }
      ]
    },
    {
      "cell_type": "markdown",
      "source": [
        "###### 2. Support Vector Machine"
      ],
      "metadata": {
        "id": "4PGE4pkXq9Qz"
      }
    },
    {
      "cell_type": "code",
      "source": [
        "from sklearn.preprocessing import StandardScaler\n",
        "from sklearn.metrics import accuracy_score\n",
        "from sklearn import metrics\n",
        "\n",
        "st_x = StandardScaler()\n",
        "X_train = st_x.fit_transform(X_train)\n",
        "X_test = st_x.transform(X_test)\n"
      ],
      "metadata": {
        "id": "PtkS3kmAqcQk"
      },
      "execution_count": 74,
      "outputs": []
    },
    {
      "cell_type": "code",
      "source": [
        "from sklearn.svm import SVC\n",
        "classifier = SVC(kernel = 'linear', random_state = 0)\n",
        "classifier.fit(X_train, Y_train)\n",
        "\n",
        "Y_pred = classifier.predict(X_test)"
      ],
      "metadata": {
        "id": "ybPegiebqwcE"
      },
      "execution_count": 75,
      "outputs": []
    },
    {
      "cell_type": "code",
      "source": [
        "print('The accuracy of the Support Vector Machine is: ', metrics.accuracy_score(Y_pred, Y_test))"
      ],
      "metadata": {
        "id": "-kV8ywtGrXgt",
        "colab": {
          "base_uri": "https://localhost:8080/"
        },
        "outputId": "efb31603-e87e-4e66-92e5-f70482bf82fd"
      },
      "execution_count": 76,
      "outputs": [
        {
          "output_type": "stream",
          "name": "stdout",
          "text": [
            "The accuracy of the Support Vector Machine is:  0.5965974625144176\n"
          ]
        }
      ]
    },
    {
      "cell_type": "markdown",
      "source": [
        "##### The model is evaluated across accuracy: \n",
        "\n",
        "- Accuracy is the total number of correct predictions made to determine if a loan would be default or non-default from the entire sample.\n",
        "\n",
        "\n",
        "=> Here, Gradient Boosting Classifier came up with higher accuracy which is 62 percent. So, It is better to go with it.\n",
        "\n",
        "0 --> Default\n",
        "\n",
        "1 --> Non-Default"
      ],
      "metadata": {
        "id": "GfCnAz2YuILI"
      }
    },
    {
      "cell_type": "markdown",
      "source": [
        "* System:"
      ],
      "metadata": {
        "id": "0BbMsXe69r6G"
      }
    },
    {
      "cell_type": "code",
      "source": [
        "if gb_clf2.predict([[0, 1, 5, 4, 1]]) == 0:\n",
        "  print(\"Defaulted!\")\n",
        "\n",
        "else:\n",
        "  print(\"Non-Defaulted!\")"
      ],
      "metadata": {
        "id": "0Z6hvC4ysUt2",
        "colab": {
          "base_uri": "https://localhost:8080/"
        },
        "outputId": "133cf50a-121c-4118-ce33-47126393c1ad"
      },
      "execution_count": 77,
      "outputs": [
        {
          "output_type": "stream",
          "name": "stdout",
          "text": [
            "Non-Defaulted!\n"
          ]
        }
      ]
    },
    {
      "cell_type": "code",
      "source": [
        "def prediction(data, target, inputs):\n",
        "\n",
        "  data = data.copy()\n",
        "  data.reset_index(inplace = True)\n",
        "\n",
        "  Y = data[target]\n",
        "  X = data.drop(['level_0', 'index', 'Target', target, 'EMI', 'ELA'], axis = 1)\n",
        "\n",
        "\n",
        "  from sklearn.model_selection import train_test_split\n",
        "  from sklearn.metrics import r2_score\n",
        "  X_train, X_test, Y_train, Y_test = train_test_split(X, Y, test_size = 0.2, random_state = 0)\n",
        "\n",
        "  from sklearn.linear_model import LinearRegression\n",
        "  model = LinearRegression()\n",
        "\n",
        "  model.fit(X_train, Y_train)\n",
        "  Y_pred = model.predict(X_test)\n",
        "\n",
        "  result = r2_score(Y_pred, Y_test)\n",
        "  print(model.predict([inputs]))\n",
        "  \n",
        "  return result\n",
        "\n"
      ],
      "metadata": {
        "id": "0lXVMpjnKYf6"
      },
      "execution_count": 78,
      "outputs": []
    },
    {
      "cell_type": "code",
      "source": [
        "if gb_clf2.predict([[0, 1, 5, 4, 1]]) == 1:\n",
        "\n",
        "  from sklearn.linear_model import LinearRegression\n",
        "\n",
        "  data['Preferred ROI'] = (data['Amount'] * data['Interest']) / 100\n",
        "\n",
        "  P = data['Amount']\n",
        "  r = data['Preferred ROI']\n",
        "  n = data['LoanDuration']\n",
        "  data['EMI'] = round(((P * r * (1 + r)**n) / ((1 + r)**n - 1)), 2)\n",
        "\n",
        "  data['ELA'] = data['IncomeTotal'] - data['LiabilitiesTotal']\n",
        "\n",
        "  #data.drop('index', inplace = True)\n",
        "\n",
        "  '''\n",
        "  X = data.iloc[:, np.r_ [1, 3, 8, 10, 17]].values.astype('int')\n",
        "  Y = data.iloc[:, 25].values\n",
        "\n",
        "  from sklearn.model_selection import train_test_split\n",
        "  X_train, X_test, Y_train, Y_test = train_test_split(X, Y, test_size = 0.2, random_state = 0)\n",
        "\n",
        "  from sklearn.linear_model import LinearRegression\n",
        "  model1 = LinearRegression()\n",
        "\n",
        "  model1.fit(X_train, Y_train)\n",
        "  Y_pred = model1.predict(X_test)\n",
        "\n",
        "  print('The accuracy of the Linear Regression is: ', metrics.accuracy_score(Y_pred, Y_test))\n",
        "  '''\n",
        "\n",
        "  #print(data.head())\n",
        "\n",
        "  '''\n",
        "  Y = data['Preferred ROI']\n",
        "  X = data.drop(['index', 'Target', 'Preferred ROI', 'EMI', 'ELA'], axis = 1)\n",
        "  print(X, Y)\n",
        "\n",
        "  from sklearn.model_selection import train_test_split\n",
        "  from sklearn.metrics import r2_score\n",
        "  X_train, X_test, Y_train, Y_test = train_test_split(X, Y, test_size = 0.2, random_state = 0)\n",
        "\n",
        "  from sklearn.linear_model import LinearRegression\n",
        "  model = LinearRegression()\n",
        "\n",
        "  model.fit(X_train, Y_train)\n",
        "  Y_pred = model.predict(X_test)\n",
        "\n",
        "  result = r2_score(Y_pred, Y_test)\n",
        "  print(result)\n",
        "  '''\n",
        "  inputs = [0, 0, 1, 3, 1, 345.98, 20, 10, 12604.90, 0]\n",
        "  r2_ROI = prediction(data, 'Preferred ROI', inputs)\n",
        "\n",
        "  print(\"r2 Score for Preferred ROI: \", r2_ROI)"
      ],
      "metadata": {
        "colab": {
          "base_uri": "https://localhost:8080/"
        },
        "id": "sf2Z1nqt7sEL",
        "outputId": "8575af7f-061b-4f3f-f89a-571cb36da11d"
      },
      "execution_count": 79,
      "outputs": [
        {
          "output_type": "stream",
          "name": "stdout",
          "text": [
            "[20.33640279]\n",
            "r2 Score for Preferred ROI:  0.5772856625762046\n"
          ]
        },
        {
          "output_type": "stream",
          "name": "stderr",
          "text": [
            "/usr/local/lib/python3.9/dist-packages/sklearn/base.py:420: UserWarning: X does not have valid feature names, but LinearRegression was fitted with feature names\n",
            "  warnings.warn(\n"
          ]
        }
      ]
    },
    {
      "cell_type": "code",
      "source": [
        "data.drop(['Preferred ROI'], axis = 1, inplace = True)\n",
        "inputs = [1, 0, 1, 3, 1, 450.98, 20, 10, 23604.90, 0]\n",
        "r2_EMI = prediction(data, 'EMI', inputs)\n",
        "print(\"r2 Score for EMI: \", r2_EMI)"
      ],
      "metadata": {
        "colab": {
          "base_uri": "https://localhost:8080/"
        },
        "id": "5cqC9FlnWLDT",
        "outputId": "3b9d6f96-0f19-4f15-ca89-daa113c5bb60"
      },
      "execution_count": 80,
      "outputs": [
        {
          "output_type": "stream",
          "name": "stdout",
          "text": [
            "[47145.49072531]\n",
            "r2 Score for EMI:  0.5759190364363771\n"
          ]
        },
        {
          "output_type": "stream",
          "name": "stderr",
          "text": [
            "/usr/local/lib/python3.9/dist-packages/sklearn/base.py:420: UserWarning: X does not have valid feature names, but LinearRegression was fitted with feature names\n",
            "  warnings.warn(\n"
          ]
        }
      ]
    },
    {
      "cell_type": "code",
      "source": [
        "inputs = [1, 1, 3, 3, 0, 3450.98, 20, 10, 126044.90, 0]\n",
        "r2_ELA = prediction(data, 'ELA', inputs)\n",
        "print(\"r2 Score for ELA: \", r2_ELA)"
      ],
      "metadata": {
        "colab": {
          "base_uri": "https://localhost:8080/"
        },
        "id": "jIkb2ayfWN8h",
        "outputId": "1bb25dfe-596e-42c7-e964-a95ceb2110e7"
      },
      "execution_count": 81,
      "outputs": [
        {
          "output_type": "stream",
          "name": "stdout",
          "text": [
            "[126044.9]\n",
            "r2 Score for ELA:  1.0\n"
          ]
        },
        {
          "output_type": "stream",
          "name": "stderr",
          "text": [
            "/usr/local/lib/python3.9/dist-packages/sklearn/base.py:420: UserWarning: X does not have valid feature names, but LinearRegression was fitted with feature names\n",
            "  warnings.warn(\n"
          ]
        }
      ]
    },
    {
      "cell_type": "markdown",
      "source": [
        "#### Input Features:\n",
        "\n",
        "NewCreditCustomer | Gender | Education | EmploymentStatus | Restructured | Amount | Interest | LoanDuration | IncomeTotal | LiabilitiesTotal\n"
      ],
      "metadata": {
        "id": "_mwoShguUxV-"
      }
    },
    {
      "cell_type": "code",
      "source": [],
      "metadata": {
        "id": "7GjS6qXmBh-_"
      },
      "execution_count": 81,
      "outputs": []
    }
  ]
}